{
 "cells": [
  {
   "cell_type": "markdown",
   "id": "591d6952-cb06-4d65-b7c9-ea9e0c59b7f7",
   "metadata": {},
   "source": [
    "# Notebook (Capitulo 6) Dr. Armando "
   ]
  },
  {
   "cell_type": "markdown",
   "id": "98fbf2c8-090c-47eb-acb4-3e678579ffe3",
   "metadata": {},
   "source": [
    "### 1. Importar"
   ]
  },
  {
   "cell_type": "code",
   "execution_count": 1,
   "id": "ed843594-ed45-4a51-8bf5-b87e95976614",
   "metadata": {},
   "outputs": [
    {
     "name": "stdout",
     "output_type": "stream",
     "text": [
      "C:\\Users\\IIEc\\Documents\\Anaconda Scripts\\Stata_armando\n",
      "CPU times: total: 0 ns\n",
      "Wall time: 0 ns\n"
     ]
    }
   ],
   "source": [
    "%%time\n",
    "import os\n",
    "\n",
    "print(os.getcwd())"
   ]
  },
  {
   "cell_type": "code",
   "execution_count": 2,
   "id": "bb39edd5-d8dc-4e26-8028-0d0d48173ddb",
   "metadata": {},
   "outputs": [
    {
     "name": "stdout",
     "output_type": "stream",
     "text": [
      "CPU times: total: 15.6 ms\n",
      "Wall time: 11.8 ms\n"
     ]
    }
   ],
   "source": [
    "%%time\n",
    "import pandas as pd \n",
    "\n",
    "path_in = \"C:\\\\Users\\\\IIEc\\\\Documents\\\\Anaconda Scripts\\\\Stata_armando\\\\input\\\\\"\n",
    "path_out = \"C:\\\\Users\\\\IIEc\\\\Documents\\\\Anaconda Scripts\\\\Stata_armando\\\\output\\\\\"\n",
    "\n",
    "df = pd.read_stata(path_in + \"f_ingreso.dta\")"
   ]
  },
  {
   "cell_type": "markdown",
   "id": "0cfeb5e9-e97a-4670-941f-14f152ba7581",
   "metadata": {},
   "source": [
    "### 2. Mostrar informacion del archivo "
   ]
  },
  {
   "cell_type": "code",
   "execution_count": 3,
   "id": "230c1fce-85ed-4476-bcf1-82161bfb3bba",
   "metadata": {},
   "outputs": [
    {
     "name": "stdout",
     "output_type": "stream",
     "text": [
      "CPU times: total: 0 ns\n",
      "Wall time: 0 ns\n"
     ]
    },
    {
     "data": {
      "text/html": [
       "<div>\n",
       "<style scoped>\n",
       "    .dataframe tbody tr th:only-of-type {\n",
       "        vertical-align: middle;\n",
       "    }\n",
       "\n",
       "    .dataframe tbody tr th {\n",
       "        vertical-align: top;\n",
       "    }\n",
       "\n",
       "    .dataframe thead th {\n",
       "        text-align: right;\n",
       "    }\n",
       "</style>\n",
       "<table border=\"1\" class=\"dataframe\">\n",
       "  <thead>\n",
       "    <tr style=\"text-align: right;\">\n",
       "      <th></th>\n",
       "      <th>entidad</th>\n",
       "      <th>edad</th>\n",
       "      <th>raba</th>\n",
       "      <th>edu</th>\n",
       "      <th>hextra_edu</th>\n",
       "      <th>w</th>\n",
       "      <th>sexo</th>\n",
       "      <th>li</th>\n",
       "      <th>ecivil</th>\n",
       "      <th>dh</th>\n",
       "      <th>reprobacion</th>\n",
       "      <th>trend</th>\n",
       "    </tr>\n",
       "  </thead>\n",
       "  <tbody>\n",
       "    <tr>\n",
       "      <th>0</th>\n",
       "      <td>Guerrero</td>\n",
       "      <td>19.0</td>\n",
       "      <td>NaN</td>\n",
       "      <td>NaN</td>\n",
       "      <td>ninguno</td>\n",
       "      <td>350.0</td>\n",
       "      <td>Mujer</td>\n",
       "      <td>1.0</td>\n",
       "      <td>0.0</td>\n",
       "      <td>1.0</td>\n",
       "      <td>0.0</td>\n",
       "      <td>2.0</td>\n",
       "    </tr>\n",
       "    <tr>\n",
       "      <th>1</th>\n",
       "      <td>Guerrero</td>\n",
       "      <td>17.0</td>\n",
       "      <td>decidiÓ empezar a trabajar</td>\n",
       "      <td>NaN</td>\n",
       "      <td>NaN</td>\n",
       "      <td>650.0</td>\n",
       "      <td>Mujer</td>\n",
       "      <td>1.0</td>\n",
       "      <td>1.0</td>\n",
       "      <td>1.0</td>\n",
       "      <td>0.0</td>\n",
       "      <td>14.0</td>\n",
       "    </tr>\n",
       "    <tr>\n",
       "      <th>2</th>\n",
       "      <td>Guerrero</td>\n",
       "      <td>19.0</td>\n",
       "      <td>NaN</td>\n",
       "      <td>NaN</td>\n",
       "      <td>NaN</td>\n",
       "      <td>250.0</td>\n",
       "      <td>Hombre</td>\n",
       "      <td>1.0</td>\n",
       "      <td>1.0</td>\n",
       "      <td>1.0</td>\n",
       "      <td>0.0</td>\n",
       "      <td>41.0</td>\n",
       "    </tr>\n",
       "    <tr>\n",
       "      <th>3</th>\n",
       "      <td>Guerrero</td>\n",
       "      <td>15.0</td>\n",
       "      <td>NaN</td>\n",
       "      <td>NaN</td>\n",
       "      <td>NaN</td>\n",
       "      <td>250.0</td>\n",
       "      <td>Mujer</td>\n",
       "      <td>1.0</td>\n",
       "      <td>1.0</td>\n",
       "      <td>1.0</td>\n",
       "      <td>0.0</td>\n",
       "      <td>46.0</td>\n",
       "    </tr>\n",
       "    <tr>\n",
       "      <th>4</th>\n",
       "      <td>Guerrero</td>\n",
       "      <td>21.0</td>\n",
       "      <td>decidiÓ empezar a trabajar</td>\n",
       "      <td>NaN</td>\n",
       "      <td>NaN</td>\n",
       "      <td>1500.0</td>\n",
       "      <td>Hombre</td>\n",
       "      <td>1.0</td>\n",
       "      <td>0.0</td>\n",
       "      <td>1.0</td>\n",
       "      <td>0.0</td>\n",
       "      <td>53.0</td>\n",
       "    </tr>\n",
       "  </tbody>\n",
       "</table>\n",
       "</div>"
      ],
      "text/plain": [
       "    entidad  edad                        raba  edu hextra_edu       w    sexo  \\\n",
       "0  Guerrero  19.0                         NaN  NaN    ninguno   350.0   Mujer   \n",
       "1  Guerrero  17.0  decidiÓ empezar a trabajar  NaN        NaN   650.0   Mujer   \n",
       "2  Guerrero  19.0                         NaN  NaN        NaN   250.0  Hombre   \n",
       "3  Guerrero  15.0                         NaN  NaN        NaN   250.0   Mujer   \n",
       "4  Guerrero  21.0  decidiÓ empezar a trabajar  NaN        NaN  1500.0  Hombre   \n",
       "\n",
       "    li  ecivil   dh  reprobacion  trend  \n",
       "0  1.0     0.0  1.0          0.0    2.0  \n",
       "1  1.0     1.0  1.0          0.0   14.0  \n",
       "2  1.0     1.0  1.0          0.0   41.0  \n",
       "3  1.0     1.0  1.0          0.0   46.0  \n",
       "4  1.0     0.0  1.0          0.0   53.0  "
      ]
     },
     "execution_count": 3,
     "metadata": {},
     "output_type": "execute_result"
    }
   ],
   "source": [
    "%%time\n",
    "\n",
    "df.head()"
   ]
  },
  {
   "cell_type": "code",
   "execution_count": 4,
   "id": "f03b2138-ba30-4791-a2ce-381cb3062791",
   "metadata": {},
   "outputs": [
    {
     "name": "stdout",
     "output_type": "stream",
     "text": [
      "<class 'pandas.core.frame.DataFrame'>\n",
      "RangeIndex: 12048 entries, 0 to 12047\n",
      "Data columns (total 12 columns):\n",
      " #   Column       Non-Null Count  Dtype   \n",
      "---  ------       --------------  -----   \n",
      " 0   entidad      12048 non-null  category\n",
      " 1   edad         12048 non-null  category\n",
      " 2   raba         10969 non-null  category\n",
      " 3   edu          777 non-null    category\n",
      " 4   hextra_edu   743 non-null    category\n",
      " 5   w            12048 non-null  category\n",
      " 6   sexo         12048 non-null  category\n",
      " 7   li           12048 non-null  float32 \n",
      " 8   ecivil       12048 non-null  float32 \n",
      " 9   dh           12048 non-null  float32 \n",
      " 10  reprobacion  11966 non-null  float32 \n",
      " 11  trend        12048 non-null  float32 \n",
      "dtypes: category(7), float32(5)\n",
      "memory usage: 342.9 KB\n",
      "CPU times: total: 15.6 ms\n",
      "Wall time: 5.75 ms\n"
     ]
    }
   ],
   "source": [
    "%%time\n",
    "\n",
    "df.info()"
   ]
  },
  {
   "cell_type": "code",
   "execution_count": 5,
   "id": "0f6895be-9253-4cf6-968c-308e3bacded9",
   "metadata": {},
   "outputs": [
    {
     "name": "stdout",
     "output_type": "stream",
     "text": [
      "CPU times: total: 0 ns\n",
      "Wall time: 8.1 ms\n"
     ]
    },
    {
     "data": {
      "text/html": [
       "<div>\n",
       "<style scoped>\n",
       "    .dataframe tbody tr th:only-of-type {\n",
       "        vertical-align: middle;\n",
       "    }\n",
       "\n",
       "    .dataframe tbody tr th {\n",
       "        vertical-align: top;\n",
       "    }\n",
       "\n",
       "    .dataframe thead th {\n",
       "        text-align: right;\n",
       "    }\n",
       "</style>\n",
       "<table border=\"1\" class=\"dataframe\">\n",
       "  <thead>\n",
       "    <tr style=\"text-align: right;\">\n",
       "      <th></th>\n",
       "      <th>li</th>\n",
       "      <th>ecivil</th>\n",
       "      <th>dh</th>\n",
       "      <th>reprobacion</th>\n",
       "      <th>trend</th>\n",
       "    </tr>\n",
       "  </thead>\n",
       "  <tbody>\n",
       "    <tr>\n",
       "      <th>count</th>\n",
       "      <td>12048.000000</td>\n",
       "      <td>12048.000000</td>\n",
       "      <td>12048.000000</td>\n",
       "      <td>11966.000000</td>\n",
       "      <td>12048.000000</td>\n",
       "    </tr>\n",
       "    <tr>\n",
       "      <th>mean</th>\n",
       "      <td>0.214807</td>\n",
       "      <td>0.751162</td>\n",
       "      <td>0.060591</td>\n",
       "      <td>0.187364</td>\n",
       "      <td>33288.265625</td>\n",
       "    </tr>\n",
       "    <tr>\n",
       "      <th>std</th>\n",
       "      <td>0.410712</td>\n",
       "      <td>0.432355</td>\n",
       "      <td>0.238584</td>\n",
       "      <td>0.390242</td>\n",
       "      <td>19077.644531</td>\n",
       "    </tr>\n",
       "    <tr>\n",
       "      <th>min</th>\n",
       "      <td>0.000000</td>\n",
       "      <td>0.000000</td>\n",
       "      <td>0.000000</td>\n",
       "      <td>0.000000</td>\n",
       "      <td>2.000000</td>\n",
       "    </tr>\n",
       "    <tr>\n",
       "      <th>25%</th>\n",
       "      <td>0.000000</td>\n",
       "      <td>1.000000</td>\n",
       "      <td>0.000000</td>\n",
       "      <td>0.000000</td>\n",
       "      <td>17702.500000</td>\n",
       "    </tr>\n",
       "    <tr>\n",
       "      <th>50%</th>\n",
       "      <td>0.000000</td>\n",
       "      <td>1.000000</td>\n",
       "      <td>0.000000</td>\n",
       "      <td>0.000000</td>\n",
       "      <td>32416.500000</td>\n",
       "    </tr>\n",
       "    <tr>\n",
       "      <th>75%</th>\n",
       "      <td>0.000000</td>\n",
       "      <td>1.000000</td>\n",
       "      <td>0.000000</td>\n",
       "      <td>0.000000</td>\n",
       "      <td>48798.250000</td>\n",
       "    </tr>\n",
       "    <tr>\n",
       "      <th>max</th>\n",
       "      <td>1.000000</td>\n",
       "      <td>1.000000</td>\n",
       "      <td>1.000000</td>\n",
       "      <td>1.000000</td>\n",
       "      <td>70155.000000</td>\n",
       "    </tr>\n",
       "  </tbody>\n",
       "</table>\n",
       "</div>"
      ],
      "text/plain": [
       "                 li        ecivil            dh   reprobacion         trend\n",
       "count  12048.000000  12048.000000  12048.000000  11966.000000  12048.000000\n",
       "mean       0.214807      0.751162      0.060591      0.187364  33288.265625\n",
       "std        0.410712      0.432355      0.238584      0.390242  19077.644531\n",
       "min        0.000000      0.000000      0.000000      0.000000      2.000000\n",
       "25%        0.000000      1.000000      0.000000      0.000000  17702.500000\n",
       "50%        0.000000      1.000000      0.000000      0.000000  32416.500000\n",
       "75%        0.000000      1.000000      0.000000      0.000000  48798.250000\n",
       "max        1.000000      1.000000      1.000000      1.000000  70155.000000"
      ]
     },
     "execution_count": 5,
     "metadata": {},
     "output_type": "execute_result"
    }
   ],
   "source": [
    "%%time\n",
    "\n",
    "df.describe()"
   ]
  },
  {
   "cell_type": "markdown",
   "id": "93e91e38-4b8e-4b3a-9e20-6ac0a6d9a132",
   "metadata": {},
   "source": [
    "### 3. Tabulando para el sexo "
   ]
  },
  {
   "cell_type": "code",
   "execution_count": 6,
   "id": "1813b99f-0c0f-4bea-9e40-17ca17e0f978",
   "metadata": {},
   "outputs": [
    {
     "name": "stdout",
     "output_type": "stream",
     "text": [
      "CPU times: total: 0 ns\n",
      "Wall time: 2.04 ms\n"
     ]
    },
    {
     "data": {
      "text/html": [
       "<div>\n",
       "<style scoped>\n",
       "    .dataframe tbody tr th:only-of-type {\n",
       "        vertical-align: middle;\n",
       "    }\n",
       "\n",
       "    .dataframe tbody tr th {\n",
       "        vertical-align: top;\n",
       "    }\n",
       "\n",
       "    .dataframe thead th {\n",
       "        text-align: right;\n",
       "    }\n",
       "</style>\n",
       "<table border=\"1\" class=\"dataframe\">\n",
       "  <thead>\n",
       "    <tr style=\"text-align: right;\">\n",
       "      <th></th>\n",
       "      <th>sexo</th>\n",
       "      <th>count</th>\n",
       "      <th>percent</th>\n",
       "      <th>cumulative</th>\n",
       "    </tr>\n",
       "  </thead>\n",
       "  <tbody>\n",
       "    <tr>\n",
       "      <th>0</th>\n",
       "      <td>Hombre</td>\n",
       "      <td>8793</td>\n",
       "      <td>72.983068</td>\n",
       "      <td>72.983068</td>\n",
       "    </tr>\n",
       "    <tr>\n",
       "      <th>1</th>\n",
       "      <td>Mujer</td>\n",
       "      <td>3255</td>\n",
       "      <td>27.016932</td>\n",
       "      <td>100.000000</td>\n",
       "    </tr>\n",
       "  </tbody>\n",
       "</table>\n",
       "</div>"
      ],
      "text/plain": [
       "     sexo  count    percent  cumulative\n",
       "0  Hombre   8793  72.983068   72.983068\n",
       "1   Mujer   3255  27.016932  100.000000"
      ]
     },
     "execution_count": 6,
     "metadata": {},
     "output_type": "execute_result"
    }
   ],
   "source": [
    "%%time\n",
    "\n",
    "df_tab = df[\"sexo\"].value_counts().reset_index()\n",
    "df_tab['percent'] = df_tab['count'] / (df_tab['count'].sum()) * 100\n",
    "df_tab['cumulative'] = df_tab['percent'].cumsum()\n",
    "\n",
    "df_tab.head()"
   ]
  },
  {
   "cell_type": "markdown",
   "id": "d7c905d4-53aa-4a9e-8cba-7efdd05821e9",
   "metadata": {},
   "source": [
    "### 4. Generando una columna o variable que indique el numero de observaciones "
   ]
  },
  {
   "cell_type": "code",
   "execution_count": 7,
   "id": "56dc3333-89f0-4d6d-901a-b4db4605371b",
   "metadata": {},
   "outputs": [
    {
     "name": "stdout",
     "output_type": "stream",
     "text": [
      "CPU times: total: 0 ns\n",
      "Wall time: 421 μs\n"
     ]
    }
   ],
   "source": [
    "%%time\n",
    "\n",
    "df['i'] = range(1, len(df) + 1)"
   ]
  },
  {
   "cell_type": "markdown",
   "id": "14bf295e-6d6b-4847-8cc2-9754aa1263da",
   "metadata": {},
   "source": [
    "### 5. Generando algunas graficas previas "
   ]
  },
  {
   "cell_type": "markdown",
   "id": "b89059de-cbbd-4830-a64d-bfc991f6f336",
   "metadata": {},
   "source": [
    "##### 5.1 Distribucion de los salarios de los empleados "
   ]
  },
  {
   "cell_type": "code",
   "execution_count": 8,
   "id": "22bedd91-7e2c-4fdd-8664-86e7bcd7513e",
   "metadata": {},
   "outputs": [
    {
     "data": {
      "image/png": "[encoded data removed]",
      "text/plain": [
       "<Figure size 640x480 with 1 Axes>"
      ]
     },
     "metadata": {},
     "output_type": "display_data"
    },
    {
     "name": "stdout",
     "output_type": "stream",
     "text": [
      "CPU times: total: 500 ms\n",
      "Wall time: 494 ms\n"
     ]
    }
   ],
   "source": [
    "%%time\n",
    "import matplotlib.pyplot as plt\n",
    "\n",
    "\n",
    "plt.plot(df['i'], df['w'], linestyle='-', marker='', color='blue')\n",
    "plt.xlabel('i (número de observación)')\n",
    "plt.ylabel('w')\n",
    "plt.grid(True)\n",
    "plt.show()"
   ]
  },
  {
   "cell_type": "markdown",
   "id": "5153b381-4bc5-41c2-a2cb-a332ee468cd6",
   "metadata": {},
   "source": [
    "##### 3.2 Distribucion de los salarios de los individuos "
   ]
  },
  {
   "cell_type": "code",
   "execution_count": 9,
   "id": "27286dd8-66dc-497f-96cb-74ce84546e51",
   "metadata": {},
   "outputs": [
    {
     "name": "stdout",
     "output_type": "stream",
     "text": [
      "CPU times: total: 31.2 ms\n",
      "Wall time: 32.5 ms\n"
     ]
    },
    {
     "data": {
      "text/plain": [
       "<Axes: >"
      ]
     },
     "execution_count": 9,
     "metadata": {},
     "output_type": "execute_result"
    },
    {
     "data": {
      "image/png": "[encoded data removed]",
      "text/plain": [
       "<Figure size 640x480 with 1 Axes>"
      ]
     },
     "metadata": {},
     "output_type": "display_data"
    }
   ],
   "source": [
    "%%time\n",
    "import matplotlib.pyplot as plt\n",
    "\n",
    "df['w'].hist(bins = 40, edgecolor = \"black\")"
   ]
  },
  {
   "cell_type": "markdown",
   "id": "a477dc4a-6868-4d92-a042-929cc26757a0",
   "metadata": {},
   "source": [
    "##### 3.3 Densidad de la distrinbucion de los salarios "
   ]
  },
  {
   "cell_type": "code",
   "execution_count": 10,
   "id": "4a06ff5c-a296-4b97-b9a1-a2d6d8b720b0",
   "metadata": {},
   "outputs": [
    {
     "data": {
      "image/png": "[encoded data removed]",
      "text/plain": [
       "<Figure size 640x480 with 1 Axes>"
      ]
     },
     "metadata": {},
     "output_type": "display_data"
    }
   ],
   "source": [
    "import numpy as np\n",
    "from scipy.stats import gaussian_kde\n",
    "import matplotlib.pyplot as plt\n",
    "\n",
    "data = df['w']\n",
    "kde = gaussian_kde(data)\n",
    "x_range = np.linspace(data.min(), data.max(), 1000)\n",
    "plt.plot(x_range, kde(x_range))\n",
    "plt.title('Density Estimate of w')\n",
    "plt.xlabel('w')\n",
    "plt.ylabel('Density')\n",
    "plt.show()"
   ]
  },
  {
   "cell_type": "markdown",
   "id": "0a596638-9c69-4ae5-9738-eadfda5a50c5",
   "metadata": {},
   "source": [
    "### 6. Distribucion por percentiles de los salarios "
   ]
  },
  {
   "cell_type": "code",
   "execution_count": 11,
   "id": "6e8dc0b8-13d1-4cd2-be7c-63beea317f19",
   "metadata": {},
   "outputs": [
    {
     "name": "stdout",
     "output_type": "stream",
     "text": [
      "Variance:  244346.0998311082\n",
      "Skewness:  5.824668452317433\n",
      "Kurtosis:  54.82044265396446\n",
      "count    12048.000000\n",
      "mean       459.666335\n",
      "std        494.313767\n",
      "min          2.000000\n",
      "1%          30.000000\n",
      "5%          80.000000\n",
      "10%        149.400000\n",
      "25%        240.000000\n",
      "50%        360.000000\n",
      "75%        500.000000\n",
      "90%        800.000000\n",
      "95%       1000.000000\n",
      "99%       2801.590000\n",
      "max       8000.000000\n",
      "Name: w, dtype: float64\n",
      "CPU times: total: 0 ns\n",
      "Wall time: 4.07 ms\n"
     ]
    }
   ],
   "source": [
    "%%time\n",
    "import scipy.stats as stats\n",
    "\n",
    "# tipo de datos \n",
    "df['w'] = df['w'].astype(float)\n",
    "\n",
    "print(\"Variance: \", df['w'].var())\n",
    "print(\"Skewness: \", stats.skew(df['w']))\n",
    "print(\"Kurtosis: \", stats.kurtosis(df['w'], fisher=False))\n",
    "print(df['w'].describe(percentiles=[0.01, 0.05, 0.10, 0.25, 0.5, 0.75, 0.90, 0.95, 0.99]))"
   ]
  },
  {
   "cell_type": "markdown",
   "id": "afad0fd3-de2e-4910-a136-2530467cb9f0",
   "metadata": {},
   "source": [
    "### 7. Datos estadisticos "
   ]
  },
  {
   "cell_type": "code",
   "execution_count": 12,
   "id": "993d9d3e-73c5-495b-b193-232848396428",
   "metadata": {},
   "outputs": [
    {
     "name": "stdout",
     "output_type": "stream",
     "text": [
      "CPU times: total: 0 ns\n",
      "Wall time: 1.6 ms\n"
     ]
    },
    {
     "data": {
      "text/plain": [
       "count    12048.000000\n",
       "mean       459.666335\n",
       "std        494.313767\n",
       "min          2.000000\n",
       "25%        240.000000\n",
       "50%        360.000000\n",
       "75%        500.000000\n",
       "max       8000.000000\n",
       "Name: w, dtype: float64"
      ]
     },
     "execution_count": 12,
     "metadata": {},
     "output_type": "execute_result"
    }
   ],
   "source": [
    "%%time\n",
    "\n",
    "df['w'].describe()"
   ]
  },
  {
   "cell_type": "markdown",
   "id": "e0907b58-6f22-4270-816a-099a38b5cf40",
   "metadata": {},
   "source": [
    "### 8. Graficando variables"
   ]
  },
  {
   "cell_type": "markdown",
   "id": "c93132fb-fb88-4fb4-bb1c-b4ce98c9b075",
   "metadata": {},
   "source": [
    "#### 8.1 Grafica de la media de los ingresos por entidad "
   ]
  },
  {
   "cell_type": "code",
   "execution_count": 13,
   "id": "9555fd0c-6289-40bb-8113-713c7cafdd81",
   "metadata": {},
   "outputs": [
    {
     "name": "stdout",
     "output_type": "stream",
     "text": [
      "CPU times: total: 156 ms\n",
      "Wall time: 148 ms\n"
     ]
    },
    {
     "data": {
      "text/plain": [
       "<Axes: xlabel='w', ylabel='entidad'>"
      ]
     },
     "execution_count": 13,
     "metadata": {},
     "output_type": "execute_result"
    },
    {
     "data": {
      "image/png": "[encoded data removed]",
      "text/plain": [
       "<Figure size 640x480 with 1 Axes>"
      ]
     },
     "metadata": {},
     "output_type": "display_data"
    }
   ],
   "source": [
    "%%time\n",
    "import seaborn as sns \n",
    "\n",
    "mean_by_entidad = df.groupby('entidad', observed=False)['w'].mean().sort_values()\n",
    "sns.barplot(x = mean_by_entidad, y = mean_by_entidad.index, orient = \"h\")"
   ]
  },
  {
   "cell_type": "markdown",
   "id": "abf992b5-4bfb-4041-bb41-b012e1d4370c",
   "metadata": {},
   "source": [
    "#### 8.2 Diagrama de dispersion "
   ]
  },
  {
   "cell_type": "markdown",
   "id": "e2f3d434-91d3-4f1c-9f77-68f55f03d7bf",
   "metadata": {},
   "source": [
    "##### 8.2.1 Salarios por edad "
   ]
  },
  {
   "cell_type": "code",
   "execution_count": 14,
   "id": "c848e213-0405-4988-b096-6ffa95a750b6",
   "metadata": {},
   "outputs": [
    {
     "data": {
      "image/png": "[encoded data removed]",
      "text/plain": [
       "<Figure size 640x480 with 1 Axes>"
      ]
     },
     "metadata": {},
     "output_type": "display_data"
    },
    {
     "name": "stdout",
     "output_type": "stream",
     "text": [
      "CPU times: total: 93.8 ms\n",
      "Wall time: 102 ms\n"
     ]
    }
   ],
   "source": [
    "%%time\n",
    "import matplotlib.pyplot as plt\n",
    "import seaborn as sns\n",
    "\n",
    "sns.scatterplot(data=df, x='edu', y='w')  \n",
    "plt.xticks(rotation=45) \n",
    "plt.grid(True)\n",
    "plt.show()"
   ]
  },
  {
   "cell_type": "markdown",
   "id": "abcac2b7-78d9-42c4-a3a3-4f9f0fb48954",
   "metadata": {},
   "source": [
    "##### 8.2.2. Educacion con una linea en las medias "
   ]
  },
  {
   "cell_type": "code",
   "execution_count": 15,
   "id": "2f027b32-f87f-4e76-8504-fdda613a99e5",
   "metadata": {},
   "outputs": [
    {
     "data": {
      "image/png": "[encoded data removed]",
      "text/plain": [
       "<Figure size 640x480 with 1 Axes>"
      ]
     },
     "metadata": {},
     "output_type": "display_data"
    },
    {
     "name": "stdout",
     "output_type": "stream",
     "text": [
      "CPU times: total: 766 ms\n",
      "Wall time: 98.7 ms\n"
     ]
    }
   ],
   "source": [
    "%%time\n",
    "import matplotlib.pyplot as plt\n",
    "import seaborn as sns\n",
    "\n",
    "edu_order = {\n",
    "    'primaria': 1,\n",
    "    'secundaria': 2,\n",
    "    'preparatoria o bachillerato': 3,\n",
    "    'normal básica': 4,\n",
    "    'carrera técnica o comercial': 5,\n",
    "    'profesional': 6,\n",
    "    'posgrado': 7\n",
    "}\n",
    "\n",
    "# Crear una nueva columna numérica\n",
    "df['edu_num'] = df['edu'].map(edu_order)\n",
    "\n",
    "sns.regplot(data=df, x='edu_num', y='w', scatter=True, ci=None)\n",
    "plt.ylabel('w')\n",
    "plt.grid(True)\n",
    "plt.show()"
   ]
  },
  {
   "cell_type": "markdown",
   "id": "b3b2a45b-7007-4971-b402-75c1e9bce3dd",
   "metadata": {},
   "source": [
    "### 9. Estadisticas de salarios condicionadas por el nivel de educacion "
   ]
  },
  {
   "cell_type": "code",
   "execution_count": 16,
   "id": "019e66b0-4a96-48d7-a726-f578931bec67",
   "metadata": {},
   "outputs": [
    {
     "name": "stdout",
     "output_type": "stream",
     "text": [
      "CPU times: total: 0 ns\n",
      "Wall time: 3.74 ms\n"
     ]
    },
    {
     "data": {
      "text/plain": [
       "count     209.000000\n",
       "mean      240.459330\n",
       "std       244.691544\n",
       "min        12.000000\n",
       "25%       100.000000\n",
       "50%       160.000000\n",
       "75%       300.000000\n",
       "max      2000.000000\n",
       "Name: w, dtype: float64"
      ]
     },
     "execution_count": 16,
     "metadata": {},
     "output_type": "execute_result"
    }
   ],
   "source": [
    "%%time\n",
    "\n",
    "df[df['edu'] == \"preparatoria o bachillerato\"]['w'].describe()"
   ]
  },
  {
   "cell_type": "code",
   "execution_count": 17,
   "id": "539f4bac-81f2-4996-857b-df577f6504e6",
   "metadata": {},
   "outputs": [
    {
     "name": "stdout",
     "output_type": "stream",
     "text": [
      "CPU times: total: 0 ns\n",
      "Wall time: 2 ms\n"
     ]
    },
    {
     "data": {
      "text/plain": [
       "count      35.000000\n",
       "mean      438.428571\n",
       "std       512.561003\n",
       "min        60.000000\n",
       "25%       275.000000\n",
       "50%       300.000000\n",
       "75%       500.000000\n",
       "max      3200.000000\n",
       "Name: w, dtype: float64"
      ]
     },
     "execution_count": 17,
     "metadata": {},
     "output_type": "execute_result"
    }
   ],
   "source": [
    "%%time\n",
    "\n",
    "df[df['edu'] == \"carrera técnica o comercial\"]['w'].describe()"
   ]
  },
  {
   "cell_type": "markdown",
   "id": "fd23532b-5945-4bc3-aa77-9c22a8dc2ec8",
   "metadata": {},
   "source": [
    "### 10. Pruebas de correlacion "
   ]
  },
  {
   "cell_type": "markdown",
   "id": "4a57165c-980b-401c-aa64-9074c0341455",
   "metadata": {},
   "source": [
    "#### 10.1 Pearson\n",
    "\n",
    "Educacion y salarios"
   ]
  },
  {
   "cell_type": "code",
   "execution_count": 18,
   "id": "16de3a79-fbdb-4469-ad6c-7f4c6b94a285",
   "metadata": {},
   "outputs": [
    {
     "name": "stdout",
     "output_type": "stream",
     "text": [
      "                w   edu_num\n",
      "w        1.000000  0.268727\n",
      "edu_num  0.268727  1.000000\n",
      "CPU times: total: 0 ns\n",
      "Wall time: 2.04 ms\n"
     ]
    }
   ],
   "source": [
    "%%time\n",
    "\n",
    "# diciponario para las categorias \n",
    "edu_numeric = {\n",
    "    \"preescolar o kinder\": 1,\n",
    "    \"primaria\": 2,\n",
    "    \"secundaria\": 3,\n",
    "    \"preparatoria o bachillerato\": 4,\n",
    "    \"normal básica\": 5,\n",
    "    \"carrera técnica o comercial\": 6,\n",
    "    \"profesional\": 7,\n",
    "    \"posgrado\": 8,\n",
    "    \"no sabe nivel\": 9\n",
    "}\n",
    "df['edu_num'] = df['edu'].map(edu_numeric)\n",
    "\n",
    "corr = df[['w', 'edu_num']].corr(method='pearson')\n",
    "print(corr)"
   ]
  },
  {
   "cell_type": "markdown",
   "id": "05bb8937-f192-4d3e-8917-0ed167c5b0c4",
   "metadata": {},
   "source": [
    "#### 10.2 Spearman\n",
    "\n",
    "Educacion y salarios"
   ]
  },
  {
   "cell_type": "code",
   "execution_count": 19,
   "id": "e02f225d-5364-4285-b17b-75e7fc6ce1f2",
   "metadata": {},
   "outputs": [
    {
     "name": "stdout",
     "output_type": "stream",
     "text": [
      "Numer of obs:  777\n",
      "Spearman rho: 0.3277\n",
      "P-value: 0.0000\n",
      "CPU times: total: 0 ns\n",
      "Wall time: 3.06 ms\n"
     ]
    }
   ],
   "source": [
    "%%time\n",
    "from scipy.stats import spearmanr\n",
    "\n",
    "# Quitar valores null \n",
    "filtered_df = df[['w', 'edu_num']].dropna()\n",
    "\n",
    "# Correlacion de Spearman \n",
    "corr, p_value = spearmanr(filtered_df['w'], filtered_df['edu_num'])\n",
    "\n",
    "print(\"Numer of obs: \", len(filtered_df))\n",
    "print(f\"Spearman rho: {corr:.4f}\")\n",
    "print(f\"P-value: {p_value:.4f}\")"
   ]
  },
  {
   "cell_type": "markdown",
   "id": "cb869741-4b3e-4648-ad14-ccc6e1b8ea81",
   "metadata": {},
   "source": [
    "#### 10.3 Spearman\n",
    "\n",
    "Edad y salarios"
   ]
  },
  {
   "cell_type": "code",
   "execution_count": 20,
   "id": "2fc61f6f-14f6-4bd9-868f-7a2bef1b41f1",
   "metadata": {},
   "outputs": [
    {
     "name": "stdout",
     "output_type": "stream",
     "text": [
      "Numer of obs:  12048\n",
      "Spearman rho: 0.1970\n",
      "P-value: 0.0000\n",
      "CPU times: total: 15.6 ms\n",
      "Wall time: 12.1 ms\n"
     ]
    }
   ],
   "source": [
    "%%time\n",
    "from scipy.stats import spearmanr\n",
    "\n",
    "df['w'] = pd.to_numeric(df['w'], errors='coerce')\n",
    "df['edad'] = pd.to_numeric(df['edad'], errors='coerce')\n",
    "\n",
    "# Correlacion de Spearman\n",
    "corr, p_value = spearmanr(df['w'], df['edad'], nan_policy='omit')\n",
    "\n",
    "print(\"Numer of obs: \", len(df))\n",
    "print(f\"Spearman rho: {corr:.4f}\")\n",
    "print(f\"P-value: {p_value:.4f}\")"
   ]
  },
  {
   "cell_type": "markdown",
   "id": "6edce039-136d-44d0-b0f8-fb817f33c53b",
   "metadata": {},
   "source": [
    "### 11. Regresiones para MCO "
   ]
  },
  {
   "cell_type": "code",
   "execution_count": 21,
   "id": "280cabf0-4911-428c-abb5-af63fb3192a9",
   "metadata": {},
   "outputs": [
    {
     "name": "stdout",
     "output_type": "stream",
     "text": [
      "Root MSE: 273.71\n",
      "                            OLS Regression Results                            \n",
      "==============================================================================\n",
      "Dep. Variable:                      w   R-squared:                       0.148\n",
      "Model:                            OLS   Adj. R-squared:                  0.144\n",
      "Method:                 Least Squares   F-statistic:                     31.41\n",
      "Date:                Fri, 13 Jun 2025   Prob (F-statistic):           3.84e-24\n",
      "Time:                        15:40:44   Log-Likelihood:                -5109.0\n",
      "No. Observations:                 727   AIC:                         1.023e+04\n",
      "Df Residuals:                     722   BIC:                         1.025e+04\n",
      "Df Model:                           4                                         \n",
      "Covariance Type:            nonrobust                                         \n",
      "==================================================================================\n",
      "                     coef    std err          t      P>|t|      [0.025      0.975]\n",
      "----------------------------------------------------------------------------------\n",
      "const            418.5868     76.381      5.480      0.000     268.632     568.541\n",
      "ecivil          -435.2483     71.516     -6.086      0.000    -575.652    -294.845\n",
      "edu_num           60.1658      8.339      7.215      0.000      43.794      76.538\n",
      "dh                88.5541     41.660      2.126      0.034       6.766     170.343\n",
      "hextra_edu_num     2.1860      0.722      3.026      0.003       0.768       3.604\n",
      "==============================================================================\n",
      "Omnibus:                      701.912   Durbin-Watson:                   1.811\n",
      "Prob(Omnibus):                  0.000   Jarque-Bera (JB):            29758.420\n",
      "Skew:                           4.369   Prob(JB):                         0.00\n",
      "Kurtosis:                      33.101   Cond. No.                         182.\n",
      "==============================================================================\n",
      "\n",
      "Notes:\n",
      "[1] Standard Errors assume that the covariance matrix of the errors is correctly specified.\n",
      "CPU times: total: 375 ms\n",
      "Wall time: 379 ms\n"
     ]
    },
    {
     "name": "stderr",
     "output_type": "stream",
     "text": [
      "<timed exec>:7: FutureWarning: Downcasting behavior in `replace` is deprecated and will be removed in a future version. To retain the old behavior, explicitly call `result.infer_objects(copy=False)`. To opt-in to the future behavior, set `pd.set_option('future.no_silent_downcasting', True)`\n",
      "<timed exec>:7: FutureWarning: The behavior of Series.replace (and DataFrame.replace) with CategoricalDtype is deprecated. In a future version, replace will only be used for cases that preserve the categories. To change the categories, use ser.cat.rename_categories instead.\n"
     ]
    }
   ],
   "source": [
    "%%time\n",
    "import statsmodels.api as sm\n",
    "    \n",
    "df_reg = df[['w', 'ecivil', 'edu_num', 'dh', 'hextra_edu']].copy() # Filtrar las columnas a utilizar \n",
    "    \n",
    "# Remplazar Strings con codigos numericos\n",
    "hextra_map = {'ninguno': 0, 'no sabe': 98}\n",
    "df_reg['hextra_edu_num'] = df_reg['hextra_edu'].replace(hextra_map)\n",
    "    \n",
    "df_reg['hextra_edu_num'] = pd.to_numeric(df_reg['hextra_edu_num'], errors='coerce') # Convertir a valores numericos, el parsing invalido lo pasa a NaN\n",
    "df_reg = df_reg.dropna().reset_index(drop=True) # Quitar valores NaN\n",
    "    \n",
    "X = df_reg[['ecivil', 'edu_num', 'dh', 'hextra_edu_num']]\n",
    "y = df_reg['w']\n",
    "X = sm.add_constant(X)  # añade el termino del intercepto \n",
    "model = sm.OLS(y, X).fit()\n",
    "    \n",
    "root_mse = np.sqrt(model.mse_resid)\n",
    "    \n",
    "print(\"Root MSE:\", round(root_mse, 2))\n",
    "print(model.summary())"
   ]
  },
  {
   "cell_type": "markdown",
   "id": "a410cf2f-908a-4f0a-baea-79df56ecaf10",
   "metadata": {},
   "source": [
    "#### 11.1 Tabulando algunas de las variables que componene la regresion para su interpretacion "
   ]
  },
  {
   "cell_type": "markdown",
   "id": "2af8b956-5855-412d-91e8-2baf1c30bd25",
   "metadata": {},
   "source": [
    "##### Estaid Civil"
   ]
  },
  {
   "cell_type": "code",
   "execution_count": 22,
   "id": "4d429d37-efcf-4e76-b8a5-4bb69d5d8168",
   "metadata": {},
   "outputs": [
    {
     "name": "stdout",
     "output_type": "stream",
     "text": [
      "CPU times: total: 0 ns\n",
      "Wall time: 1.59 ms\n"
     ]
    },
    {
     "data": {
      "text/html": [
       "<div>\n",
       "<style scoped>\n",
       "    .dataframe tbody tr th:only-of-type {\n",
       "        vertical-align: middle;\n",
       "    }\n",
       "\n",
       "    .dataframe tbody tr th {\n",
       "        vertical-align: top;\n",
       "    }\n",
       "\n",
       "    .dataframe thead th {\n",
       "        text-align: right;\n",
       "    }\n",
       "</style>\n",
       "<table border=\"1\" class=\"dataframe\">\n",
       "  <thead>\n",
       "    <tr style=\"text-align: right;\">\n",
       "      <th></th>\n",
       "      <th>ecivil</th>\n",
       "      <th>count</th>\n",
       "      <th>percent</th>\n",
       "      <th>cumulative</th>\n",
       "    </tr>\n",
       "  </thead>\n",
       "  <tbody>\n",
       "    <tr>\n",
       "      <th>0</th>\n",
       "      <td>0.0</td>\n",
       "      <td>2998</td>\n",
       "      <td>24.883798</td>\n",
       "      <td>24.883798</td>\n",
       "    </tr>\n",
       "    <tr>\n",
       "      <th>1</th>\n",
       "      <td>1.0</td>\n",
       "      <td>9050</td>\n",
       "      <td>75.116202</td>\n",
       "      <td>100.000000</td>\n",
       "    </tr>\n",
       "  </tbody>\n",
       "</table>\n",
       "</div>"
      ],
      "text/plain": [
       "   ecivil  count    percent  cumulative\n",
       "0     0.0   2998  24.883798   24.883798\n",
       "1     1.0   9050  75.116202  100.000000"
      ]
     },
     "execution_count": 22,
     "metadata": {},
     "output_type": "execute_result"
    }
   ],
   "source": [
    "%%time\n",
    "\n",
    "df_tab_ecivil = df[\"ecivil\"].value_counts().sort_values().reset_index()\n",
    "df_tab_ecivil['percent'] = df_tab_ecivil['count'] / (df_tab_ecivil['count'].sum()) * 100\n",
    "df_tab_ecivil['cumulative'] = df_tab_ecivil['percent'].cumsum()\n",
    "\n",
    "df_tab_ecivil.head()"
   ]
  },
  {
   "cell_type": "markdown",
   "id": "6046db68-c074-443f-a218-556fa3afe5a0",
   "metadata": {},
   "source": [
    "##### Educacion "
   ]
  },
  {
   "cell_type": "code",
   "execution_count": 23,
   "id": "5100364b-8558-4a27-a5c7-0ed9f3b2a76a",
   "metadata": {},
   "outputs": [
    {
     "name": "stdout",
     "output_type": "stream",
     "text": [
      "CPU times: total: 15.6 ms\n",
      "Wall time: 3.07 ms\n"
     ]
    },
    {
     "data": {
      "text/html": [
       "<div>\n",
       "<style scoped>\n",
       "    .dataframe tbody tr th:only-of-type {\n",
       "        vertical-align: middle;\n",
       "    }\n",
       "\n",
       "    .dataframe tbody tr th {\n",
       "        vertical-align: top;\n",
       "    }\n",
       "\n",
       "    .dataframe thead th {\n",
       "        text-align: right;\n",
       "    }\n",
       "</style>\n",
       "<table border=\"1\" class=\"dataframe\">\n",
       "  <thead>\n",
       "    <tr style=\"text-align: right;\">\n",
       "      <th></th>\n",
       "      <th>edu</th>\n",
       "      <th>count</th>\n",
       "      <th>percent</th>\n",
       "      <th>cum_percent</th>\n",
       "    </tr>\n",
       "  </thead>\n",
       "  <tbody>\n",
       "    <tr>\n",
       "      <th>0</th>\n",
       "      <td>primaria</td>\n",
       "      <td>198</td>\n",
       "      <td>25.48</td>\n",
       "      <td>25.48</td>\n",
       "    </tr>\n",
       "    <tr>\n",
       "      <th>1</th>\n",
       "      <td>secundaria</td>\n",
       "      <td>282</td>\n",
       "      <td>36.29</td>\n",
       "      <td>61.77</td>\n",
       "    </tr>\n",
       "    <tr>\n",
       "      <th>2</th>\n",
       "      <td>preparatoria o bachillerato</td>\n",
       "      <td>209</td>\n",
       "      <td>26.90</td>\n",
       "      <td>88.67</td>\n",
       "    </tr>\n",
       "    <tr>\n",
       "      <th>3</th>\n",
       "      <td>normal básica</td>\n",
       "      <td>13</td>\n",
       "      <td>1.67</td>\n",
       "      <td>90.34</td>\n",
       "    </tr>\n",
       "    <tr>\n",
       "      <th>4</th>\n",
       "      <td>carrera técnica o comercial</td>\n",
       "      <td>35</td>\n",
       "      <td>4.50</td>\n",
       "      <td>94.84</td>\n",
       "    </tr>\n",
       "    <tr>\n",
       "      <th>5</th>\n",
       "      <td>profesional</td>\n",
       "      <td>39</td>\n",
       "      <td>5.02</td>\n",
       "      <td>99.86</td>\n",
       "    </tr>\n",
       "    <tr>\n",
       "      <th>6</th>\n",
       "      <td>posgrado</td>\n",
       "      <td>1</td>\n",
       "      <td>0.13</td>\n",
       "      <td>99.99</td>\n",
       "    </tr>\n",
       "  </tbody>\n",
       "</table>\n",
       "</div>"
      ],
      "text/plain": [
       "                           edu  count  percent  cum_percent\n",
       "0                     primaria    198    25.48        25.48\n",
       "1                   secundaria    282    36.29        61.77\n",
       "2  preparatoria o bachillerato    209    26.90        88.67\n",
       "3                normal básica     13     1.67        90.34\n",
       "4  carrera técnica o comercial     35     4.50        94.84\n",
       "5                  profesional     39     5.02        99.86\n",
       "6                     posgrado      1     0.13        99.99"
      ]
     },
     "execution_count": 23,
     "metadata": {},
     "output_type": "execute_result"
    }
   ],
   "source": [
    "%%time\n",
    "\n",
    "df_tab_edu = df[\"edu\"].value_counts().reset_index()\n",
    "\n",
    "custom_order = [\n",
    "    'primaria',\n",
    "    'secundaria',\n",
    "    'preparatoria o bachillerato',\n",
    "    'normal básica',\n",
    "    'carrera técnica o comercial',\n",
    "    'profesional',\n",
    "    'posgrado'\n",
    "]\n",
    "\n",
    "# Filtrado \n",
    "df_tab_edu = df_tab_edu[df_tab_edu['edu'].isin(custom_order)]\n",
    "df_tab_edu = df_tab_edu.set_index('edu').loc[custom_order].reset_index()\n",
    "\n",
    "total = df_tab_edu['count'].sum()\n",
    "df_tab_edu['percent'] = (df_tab_edu['count'] / total * 100).round(2)\n",
    "df_tab_edu['cum_percent'] = df_tab_edu['percent'].cumsum().round(2)\n",
    "\n",
    "df_tab_edu.head(10)"
   ]
  },
  {
   "cell_type": "markdown",
   "id": "51c52a71-714d-4174-b591-b541aabfee83",
   "metadata": {},
   "source": [
    "##### Derechohabiente"
   ]
  },
  {
   "cell_type": "code",
   "execution_count": 24,
   "id": "0d48e373-9653-44db-91e5-9ca72668989f",
   "metadata": {},
   "outputs": [
    {
     "name": "stdout",
     "output_type": "stream",
     "text": [
      "CPU times: total: 0 ns\n",
      "Wall time: 1.01 ms\n"
     ]
    },
    {
     "data": {
      "text/html": [
       "<div>\n",
       "<style scoped>\n",
       "    .dataframe tbody tr th:only-of-type {\n",
       "        vertical-align: middle;\n",
       "    }\n",
       "\n",
       "    .dataframe tbody tr th {\n",
       "        vertical-align: top;\n",
       "    }\n",
       "\n",
       "    .dataframe thead th {\n",
       "        text-align: right;\n",
       "    }\n",
       "</style>\n",
       "<table border=\"1\" class=\"dataframe\">\n",
       "  <thead>\n",
       "    <tr style=\"text-align: right;\">\n",
       "      <th></th>\n",
       "      <th>dh</th>\n",
       "      <th>count</th>\n",
       "      <th>percent</th>\n",
       "      <th>cumulative</th>\n",
       "    </tr>\n",
       "  </thead>\n",
       "  <tbody>\n",
       "    <tr>\n",
       "      <th>0</th>\n",
       "      <td>0.0</td>\n",
       "      <td>11318</td>\n",
       "      <td>93.940903</td>\n",
       "      <td>93.940903</td>\n",
       "    </tr>\n",
       "    <tr>\n",
       "      <th>1</th>\n",
       "      <td>1.0</td>\n",
       "      <td>730</td>\n",
       "      <td>6.059097</td>\n",
       "      <td>100.000000</td>\n",
       "    </tr>\n",
       "  </tbody>\n",
       "</table>\n",
       "</div>"
      ],
      "text/plain": [
       "    dh  count    percent  cumulative\n",
       "0  0.0  11318  93.940903   93.940903\n",
       "1  1.0    730   6.059097  100.000000"
      ]
     },
     "execution_count": 24,
     "metadata": {},
     "output_type": "execute_result"
    }
   ],
   "source": [
    "%%time\n",
    "\n",
    "df_tab_dh = df[\"dh\"].value_counts().reset_index()\n",
    "df_tab_dh['percent'] = df_tab_dh['count'] / (df_tab_ecivil['count'].sum()) * 100\n",
    "df_tab_dh['cumulative'] = df_tab_dh['percent'].cumsum()\n",
    "\n",
    "df_tab_dh.head()"
   ]
  },
  {
   "cell_type": "markdown",
   "id": "9b30cfb1-1aa6-4d98-a6e1-ed34c794d801",
   "metadata": {},
   "source": [
    "#### 11.2 Guardando los resultados de MCO "
   ]
  },
  {
   "cell_type": "code",
   "execution_count": 25,
   "id": "6e117c9d-b88c-4162-a1ac-58bc9fd42b2b",
   "metadata": {},
   "outputs": [
    {
     "name": "stdout",
     "output_type": "stream",
     "text": [
      "CPU times: total: 15.6 ms\n",
      "Wall time: 16.6 ms\n"
     ]
    }
   ],
   "source": [
    "%%time\n",
    "\n",
    "# Como TXT\n",
    "with open(path_out + \"mco_regresion_summary.txt\", \"w\") as f:\n",
    "    f.write(str(model.summary()))\n",
    "\n",
    "# Como csv \n",
    "results_df_mco = pd.DataFrame({\n",
    "    \"Variables\": model.params.keys(),\n",
    "    \"Coeficient\": model.params,\n",
    "    \"Std error:\": model.bse,\n",
    "    \"t-value\": model.tvalues,\n",
    "    \"P-value\": model.pvalues\n",
    "})\n",
    "\n",
    "results_df_mco.to_csv(path_out + \"mco_regresion_summary.csv\", index = False)"
   ]
  },
  {
   "cell_type": "markdown",
   "id": "1b350143-ab98-4cb8-b9dd-2d1bb980418b",
   "metadata": {},
   "source": [
    "#### 11.3 Guardando los rsiduales de MCO"
   ]
  },
  {
   "cell_type": "code",
   "execution_count": 26,
   "id": "f12f2c00-6a28-47d1-9e86-acf6563fdf8c",
   "metadata": {},
   "outputs": [
    {
     "name": "stdout",
     "output_type": "stream",
     "text": [
      "CPU times: total: 0 ns\n",
      "Wall time: 10.6 ms\n"
     ]
    }
   ],
   "source": [
    "%%time\n",
    "\n",
    "# Como TXT \n",
    "with open(path_out + \"mco_regresion_residuals.txt\", \"w\") as f:\n",
    "    for v in model.resid:\n",
    "        f.write(f\"{v}\\n\")\n",
    "    f.close()\n",
    "\n",
    "# Como csv\n",
    "results_df_mco_res = pd.DataFrame({\n",
    "    \"Residuales\": model.resid\n",
    "})\n",
    "\n",
    "results_df_mco_res.to_csv(path_out + \"mco_regresion_residuales.csv\", index = False)"
   ]
  },
  {
   "cell_type": "markdown",
   "id": "3c0086cc-da42-43bc-8e35-08d878095351",
   "metadata": {},
   "source": [
    "### 12. Pruebas estadisticas "
   ]
  },
  {
   "cell_type": "markdown",
   "id": "a489e84d-cb79-4501-b805-69ad3bba9ca8",
   "metadata": {},
   "source": [
    "#### 12.1 Normalidad \n",
    "\n",
    "El P-value representa la probabilidad de observar un estadístico de prueba bajo la hipótesis nula de que los residuos se distribuyen normalmente.\n",
    "\n",
    "La prueba indica que los residuos no siguen una distribución normal, lo cual puede afectar la inferencia en muestras pequeñas. A menudo, la no normalidad es un síntoma de una mala especificación del modelo, como variables omitidas o una forma funcional incorrecta, pero no es lo mismo que la mala especificación en sí.\n",
    "\n",
    "- Ejemplo: Si se omite una variable clave (como la edad), los residuos pueden capturar su efecto, lo que lleva a asimetría (skewness) o curtosis."
   ]
  },
  {
   "cell_type": "code",
   "execution_count": 27,
   "id": "2025ed60-d2b9-440a-aae4-a37b1c3dc8ea",
   "metadata": {},
   "outputs": [
    {
     "name": "stdout",
     "output_type": "stream",
     "text": [
      "Skew: 4.3776\n",
      "Kurtosis: 30.1008\n",
      "statistics: 701.9121\n",
      "Pvalue: 0.0000\n",
      "Null hypothesis rejected\n",
      "The residuals are not normally distributted!\n",
      "CPU times: total: 0 ns\n",
      "Wall time: 3.04 ms\n"
     ]
    }
   ],
   "source": [
    "%%time\n",
    "from scipy.stats import normaltest, skew, kurtosis, chi2 \n",
    "\n",
    "residuales = model.resid\n",
    "\n",
    "n_obs = len(residuales)\n",
    "\n",
    "# skew & kurtosis \n",
    "skew_val = skew(residuales, bias = False)\n",
    "kurtosis_val = kurtosis(residuales)\n",
    "statistics, pvalue = normaltest(residuales)\n",
    "\n",
    "print(f\"Skew: {skew_val:.4f}\")\n",
    "print(f\"Kurtosis: {kurtosis_val:.4f}\")\n",
    "print(f\"statistics: {statistics:.4f}\")\n",
    "print(f\"Pvalue: {pvalue:.4f}\")\n",
    "\n",
    "if pvalue <0.05:\n",
    "    print(\"Null hypothesis rejected\")\n",
    "    print(\"The residuals are not normally distributted!\")\n"
   ]
  },
  {
   "cell_type": "markdown",
   "id": "58fc7dd8-0d3a-4f51-8114-d54c051f2c25",
   "metadata": {},
   "source": [
    "#### 12.2 Heterocedasticidad\n",
    "\n",
    "El test de Breusch-Pagan evalúa si la varianza de los residuos es constante (homocedasticidad) al calcular los residuos al cuadrado sobre las variables explicativas y probar si estas variables explican la varianza. Las hipótesis nula y alternativa son:\n",
    "\n",
    "- $H_o$: Homocedasticidad (varianza constante)\n",
    "- $H_a$: Heterocedasticidad (varianza no constante)\n",
    "\n",
    "Este test muestra que la varianza del error no es constante, lo que afecta los errores estándar y la inferencia. Al igual que la falta de normalidad, la heterocedasticidad suele ser causada por una mala especificación (por ejemplo, variables faltantes o no linealidades)."
   ]
  },
  {
   "cell_type": "code",
   "execution_count": 28,
   "id": "68973bc3-2e50-4d1e-bc93-9e3b18e1d8fd",
   "metadata": {},
   "outputs": [
    {
     "name": "stdout",
     "output_type": "stream",
     "text": [
      "Breusch-Pagan test statistic (chi2): 25.8434\n",
      "P-value (LM test): 0.0000\n",
      "F-statistic: 6.6529\n",
      "P-value: 0.0000\n",
      "Null hypothesis rejected\n",
      "The residuals exhibit heteroskedasticity!\n",
      "CPU times: total: 0 ns\n",
      "Wall time: 1 ms\n"
     ]
    }
   ],
   "source": [
    "%%time\n",
    "from statsmodels.stats.diagnostic import het_breuschpagan\n",
    "\n",
    "bp_test = het_breuschpagan(residuales, model.model.exog)\n",
    "bp_stat, bp_pval, f_stat, f_pval = bp_test\n",
    "\n",
    "print(f\"Breusch-Pagan test statistic (chi2): {bp_stat:.4f}\")\n",
    "print(f\"P-value (LM test): {bp_pval:.4f}\")\n",
    "print(f\"F-statistic: {f_stat:.4f}\")\n",
    "print(f\"P-value: {f_pval:.4f}\")\n",
    "\n",
    "if bp_pval < 0.05:\n",
    "    print(\"Null hypothesis rejected\")\n",
    "    print(\"The residuals exhibit heteroskedasticity!\")"
   ]
  },
  {
   "cell_type": "markdown",
   "id": "619833d4-f97f-49c4-99b6-f2b4254f6a91",
   "metadata": {},
   "source": [
    "####  12.3 Prueba de linealidad \n",
    "\n",
    "El test Ramsey RESET (Regression Equation Specification Error Test) evalúa que el modelo de regresión está correctamente especificado, comprobando específicamente si hay:\n",
    "\n",
    "- Variables Omitidas: ¿Faltan variables en el modelo que deberían incluirse?\n",
    "- Forma Funcional Incorrecta: ¿Es apropiada la relación lineal asumida en el modelo $w = \\beta_0 + \\beta_1 \\text{ecivil} + \\beta_2 \\text{edu\\_num} + \\beta_3 \\text{dh} + \\beta_4 \\text{hextra\\_edu\\_num} + \\varepsilon$, o se necesitan términos no lineales (por ejemplo, cuadráticos, interacciones)?\n",
    "\n",
    "\n",
    "Este test evalúa directamente si al modelo le faltan variables o tiene una forma funcional incorrecta al comprobar si $y^​2$, $y^​3$ o $y^​4$ las variables añaden poder explicativo.\n",
    "\n",
    "En econometría y análisis de regresión, un modelo está correctamente especificado si representa de manera precisa la verdadera relación entre la variable dependiente y las variables explicativas en el proceso de generación de datos (DGP). Específicamente, para este modelo de regresión lineal:\n",
    "\n",
    "$$w_i = \\beta_0 + \\beta_1 \\text{ecivil}_i + \\beta_2 \\text{edu\\_num}_i + \\beta_3 \\text{dh}_i + \\beta_4 \\text{hextra\\_edu\\_num}_i + \\epsilon_i$$\n",
    "\n",
    "\n",
    "\"Correctamente especificado\" significa que:\n",
    "\n",
    "- Todas las variables relevantes están incluidas: El modelo incluye todas las variables explicativas que influyen en w en el verdadero DGP, y no se omiten variables importantes.\n",
    "- Forma funcional correcta: La relación lineal asumida (por ejemplo, $\\beta_1 \\text{ecivil}_i$) coincide con la verdadera relación. Por ejemplo, si la relación verdadera es no lineal (por ejemplo, edu_num2), un modelo lineal está mal especificado.\n"
   ]
  },
  {
   "cell_type": "markdown",
   "id": "434e080f-5219-44c1-9169-d4a3ae30a6ee",
   "metadata": {},
   "source": [
    "##### 12.3.1 Prueba simple"
   ]
  },
  {
   "cell_type": "code",
   "execution_count": 29,
   "id": "0737f341-a778-4f3f-8053-c784cd3ee2c9",
   "metadata": {},
   "outputs": [
    {
     "name": "stdout",
     "output_type": "stream",
     "text": [
      "F-statistic: 4.4975\n",
      "P-value: 0.0115\n",
      "Null hypothesis rejected\n",
      "The model has omitted variables or incorrect functional form!\n",
      "CPU times: total: 0 ns\n",
      "Wall time: 1.01 ms\n"
     ]
    }
   ],
   "source": [
    "%%time\n",
    "from statsmodels.stats.diagnostic import linear_reset\n",
    "\n",
    "reset_test = linear_reset(model, power=3, use_f=True)\n",
    "\n",
    "print(f\"F-statistic: {reset_test.statistic:.4f}\")\n",
    "print(f\"P-value: {reset_test.pvalue:.4f}\")\n",
    "\n",
    "if reset_test.pvalue < 0.05:\n",
    "    print(\"Null hypothesis rejected\")\n",
    "    print(\"The model has omitted variables or incorrect functional form!\")"
   ]
  },
  {
   "cell_type": "markdown",
   "id": "0d32871e-3523-4f7d-8d60-d3606087d26e",
   "metadata": {},
   "source": [
    "##### 12.3.2 Prueba robusta (codigo manual)\n",
    "\n",
    "El código manual permite usar errores estándar robustos (cov_type='HC3') para abordar la heterocedasticidad, algo que \"linear_reset\" no soporta. Dado que hay residuos heterocedásticos, se recomienda la versión manual robusta."
   ]
  },
  {
   "cell_type": "code",
   "execution_count": 30,
   "id": "77412b83-f7d4-43f6-9fc1-f5cf1a050b45",
   "metadata": {},
   "outputs": [
    {
     "name": "stdout",
     "output_type": "stream",
     "text": [
      "F-statistic: 3.8127\n",
      "P-value: 0.0099\n",
      "Null hypothesis rejected\n",
      "The model has omitted variables or incorrect functional form!\n"
     ]
    }
   ],
   "source": [
    "import statsmodels.api as sm\n",
    "import numpy as np\n",
    "\n",
    "# Obtener valores del model.exog original\n",
    "fitted_values = model.fittedvalues\n",
    "exog = model.model.exog  # variables explicativas original\n",
    "\n",
    "# Crear los valores para  (y^2, y^3, y^4)\n",
    "yhat2 = fitted_values**2\n",
    "yhat3 = fitted_values**3\n",
    "yhat4 = fitted_values**4\n",
    "\n",
    "# Aumentar la matriz exog\n",
    "exog_augmented = np.column_stack((exog, yhat2, yhat3, yhat4))\n",
    "\n",
    "# Modelo de regresion aumentada usando el model.model.endog\n",
    "augmented_model = sm.OLS(model.model.endog, exog_augmented).fit()\n",
    "\n",
    "# F-test para  yhat2, yhat3, yhat4\n",
    "restrictions = np.zeros((3, exog_augmented.shape[1]))\n",
    "restrictions[:, -3:] = np.eye(3)  # Test last 3 coefficients = 0\n",
    "f_test = augmented_model.f_test(restrictions)\n",
    "\n",
    "print(f\"F-statistic: {f_test.statistic:.4f}\")\n",
    "print(f\"P-value: {f_test.pvalue:.4f}\")\n",
    "\n",
    "if f_test.pvalue < 0.05:\n",
    "    print(\"Null hypothesis rejected\")\n",
    "    print(\"The model has omitted variables or incorrect functional form!\")\n",
    "else:\n",
    "    print(\"Fail to reject null hypothesis\")\n",
    "    print(\"No evidence of omitted variables or incorrect functional form.\")"
   ]
  },
  {
   "cell_type": "markdown",
   "id": "c063fc6e-91a6-487c-b384-0bf3a56af1ec",
   "metadata": {},
   "source": [
    "#### 12.4 VIF (multicolinealidad)\n",
    "\n",
    "El test del Factor de Inflación de la Varianza (VIF) comprueba la multicolinealidad, que ocurre cuando las variables explicativas en el modelo de regresión están altamente correlacionadas entre sí. Una alta multicolinealidad puede:\n",
    "\n",
    "- Inflar los errores estándar de los coeficientes de regresión, haciéndolos menos precisos (valores p más grandes, intervalos de confianza más amplios).\n",
    "- Hacer que las estimaciones de los coeficientes sean inestables o difíciles de interpretar (por ejemplo, los signos o las magnitudes pueden parecer contraintuitivos).\n",
    "- Complicar la identificación del efecto individual de cada predictor sobre la variable dependiente (w, probablemente salarios).\n",
    "\n",
    "__Interpretación:__\n",
    "\n",
    "- VIF = 1: No hay multicolinealidad (la variable no está correlacionada con las otras).\n",
    "- VIF > 5 o 10: Multicolinealidad potencial (es una regla general, aunque depende del contexto).\n",
    "- 1/VIF: Es la Tolerancia, la proporción de la varianza que no es explicada por otros predictores (cuanto más cerca de 1, menos multicolinealidad).\n",
    "\n",
    "\n",
    "__¿Existe un \"Valor Clave\" como el P-value?__\n",
    "\n",
    "A diferencia de los tests de normalidad, heterocedasticidad y Ramsey RESET, el test VIF no produce un p-value porque no es una prueba de hipótesis. En su lugar, los propios valores VIF son los resultados clave, y se interpretan según ciertos umbrales:\n",
    "\n",
    "- VIF < 5: No hay multicolinealidad (tu caso: todos los VIF son ≤1.08).\n",
    "- VIF 5–10: Multicolinealidad moderada; investiga más a fondo.\n",
    "- VIF > 10: Multicolinealidad severa; considera eliminar o combinar variables.\n",
    "\n",
    "El VIF promedio es un resumen útil que refuerza la idea de que la multicolinealidad esta presente o no en el modelo."
   ]
  },
  {
   "cell_type": "code",
   "execution_count": 31,
   "id": "769248bf-f0a0-4199-a6bd-ab59a9b2c098",
   "metadata": {},
   "outputs": [
    {
     "name": "stdout",
     "output_type": "stream",
     "text": [
      "         Variable        VIF     1/VIF\n",
      "0           const  56.615337  0.017663\n",
      "1          ecivil   1.002933  0.997075\n",
      "2         edu_num   1.081283  0.924827\n",
      "3              dh   1.018442  0.981892\n",
      "4  hextra_edu_num   1.064174  0.939696\n",
      "\n",
      "Mean VIF: 1.04\n",
      "Warning: High multicollinearity detected (VIF > 5)!\n",
      "CPU times: total: 15.6 ms\n",
      "Wall time: 7.81 ms\n"
     ]
    }
   ],
   "source": [
    "%%time\n",
    "from statsmodels.stats.outliers_influence import variance_inflation_factor\n",
    "import pandas as pd\n",
    "\n",
    "#  Variables independientes \n",
    "X = df_reg[['ecivil', 'edu_num', 'dh', 'hextra_edu_num']]\n",
    "X = sm.add_constant(X)  # Add intercept\n",
    "\n",
    "vif_data = pd.DataFrame()\n",
    "vif_data[\"Variable\"] = X.columns\n",
    "vif_data[\"VIF\"] = [variance_inflation_factor(X.values, i) for i in range(X.shape[1])]\n",
    "vif_data[\"1/VIF\"] = 1 / vif_data[\"VIF\"]\n",
    "\n",
    "# media del  VIF \n",
    "mean_vif = vif_data.loc[vif_data[\"Variable\"] != \"const\", \"VIF\"].mean()\n",
    "\n",
    "print(vif_data)\n",
    "print(f\"\\nMean VIF: {mean_vif:.2f}\")\n",
    "\n",
    "if (vif_data[\"VIF\"] > 5).any():\n",
    "    print(\"Warning: High multicollinearity detected (VIF > 5)!\")\n",
    "else:\n",
    "    print(\"No significant multicollinearity (all VIFs ≤ 5).\")"
   ]
  },
  {
   "cell_type": "markdown",
   "id": "bc45ae87-0e1d-4b9d-8431-a3eea36923ad",
   "metadata": {},
   "source": [
    "### 13. Generando el logaritmo del salario\n",
    "\n",
    "La transformación logarítmica es una herramienta poderosa en econometría y análisis de regresión, especialmente cuando la variable dependiente presenta ciertas características que violan los supuestos de un modelo lineal. Así es como ayuda a lograr la normalidad en los residuos:\n",
    "\n",
    "__1. Reduce la Asimetría Positiva:__ muchas variables dependientes, como los salarios (w), los precios o los ingresos, suelen estar sesgadas positivamente (tienen una cola larga hacia la derecha con valores grandes). Esta asimetría a menudo conduce a residuos no normales en una regresión lineal, como se vio en el modelo original (asimetría = 4.3776).\n",
    "\n",
    "__2. El logaritmo natural__ ($ln(y)$) comprime los valores grandes y extiende los valores pequeños, haciendo que la distribución de $y$ sea más simétrica. Por ejemplo, si $w$ varía de 100 a 100,000, $ln(w)$ varía de aproximadamente 4.6 a 11.5, reduciendo significativamente la cola.\n",
    "\n",
    "__3. Estabiliza la Varianza:__ los datos asimétricos a menudo presentan residuos heterocedásticos (varianza no constante), lo que contribuye a la falta de normalidad. Aplicar el logaritmo puede estabilizar la varianza al reducir el impacto de los valores extremos, lo que acerca los residuos a una distribución normal.\n",
    "\n",
    "__4. Aproxima la Distribución Normal:__ si $y$ sigue una distribución log-normal (algo común para los salarios, donde $ln(y)$ es normal), aplicar el logaritmo a $w$ la transforma en una variable similar a la normal, produciendo residuos con mayor probabilidad de ser normales."
   ]
  },
  {
   "cell_type": "code",
   "execution_count": 32,
   "id": "bb8bfcda-7017-49ce-83fe-b5613b7b2cc5",
   "metadata": {},
   "outputs": [
    {
     "name": "stdout",
     "output_type": "stream",
     "text": [
      "CPU times: total: 0 ns\n",
      "Wall time: 1.72 ms\n"
     ]
    },
    {
     "data": {
      "text/html": [
       "<div>\n",
       "<style scoped>\n",
       "    .dataframe tbody tr th:only-of-type {\n",
       "        vertical-align: middle;\n",
       "    }\n",
       "\n",
       "    .dataframe tbody tr th {\n",
       "        vertical-align: top;\n",
       "    }\n",
       "\n",
       "    .dataframe thead th {\n",
       "        text-align: right;\n",
       "    }\n",
       "</style>\n",
       "<table border=\"1\" class=\"dataframe\">\n",
       "  <thead>\n",
       "    <tr style=\"text-align: right;\">\n",
       "      <th></th>\n",
       "      <th>entidad</th>\n",
       "      <th>edad</th>\n",
       "      <th>raba</th>\n",
       "      <th>edu</th>\n",
       "      <th>hextra_edu</th>\n",
       "      <th>w</th>\n",
       "      <th>sexo</th>\n",
       "      <th>li</th>\n",
       "      <th>ecivil</th>\n",
       "      <th>dh</th>\n",
       "      <th>reprobacion</th>\n",
       "      <th>trend</th>\n",
       "      <th>i</th>\n",
       "      <th>edu_num</th>\n",
       "      <th>lw</th>\n",
       "    </tr>\n",
       "  </thead>\n",
       "  <tbody>\n",
       "    <tr>\n",
       "      <th>0</th>\n",
       "      <td>Guerrero</td>\n",
       "      <td>19.0</td>\n",
       "      <td>NaN</td>\n",
       "      <td>NaN</td>\n",
       "      <td>ninguno</td>\n",
       "      <td>350.0</td>\n",
       "      <td>Mujer</td>\n",
       "      <td>1.0</td>\n",
       "      <td>0.0</td>\n",
       "      <td>1.0</td>\n",
       "      <td>0.0</td>\n",
       "      <td>2.0</td>\n",
       "      <td>1</td>\n",
       "      <td>NaN</td>\n",
       "      <td>5.857933</td>\n",
       "    </tr>\n",
       "    <tr>\n",
       "      <th>1</th>\n",
       "      <td>Guerrero</td>\n",
       "      <td>17.0</td>\n",
       "      <td>decidiÓ empezar a trabajar</td>\n",
       "      <td>NaN</td>\n",
       "      <td>NaN</td>\n",
       "      <td>650.0</td>\n",
       "      <td>Mujer</td>\n",
       "      <td>1.0</td>\n",
       "      <td>1.0</td>\n",
       "      <td>1.0</td>\n",
       "      <td>0.0</td>\n",
       "      <td>14.0</td>\n",
       "      <td>2</td>\n",
       "      <td>NaN</td>\n",
       "      <td>6.476972</td>\n",
       "    </tr>\n",
       "    <tr>\n",
       "      <th>2</th>\n",
       "      <td>Guerrero</td>\n",
       "      <td>19.0</td>\n",
       "      <td>NaN</td>\n",
       "      <td>NaN</td>\n",
       "      <td>NaN</td>\n",
       "      <td>250.0</td>\n",
       "      <td>Hombre</td>\n",
       "      <td>1.0</td>\n",
       "      <td>1.0</td>\n",
       "      <td>1.0</td>\n",
       "      <td>0.0</td>\n",
       "      <td>41.0</td>\n",
       "      <td>3</td>\n",
       "      <td>NaN</td>\n",
       "      <td>5.521461</td>\n",
       "    </tr>\n",
       "    <tr>\n",
       "      <th>3</th>\n",
       "      <td>Guerrero</td>\n",
       "      <td>15.0</td>\n",
       "      <td>NaN</td>\n",
       "      <td>NaN</td>\n",
       "      <td>NaN</td>\n",
       "      <td>250.0</td>\n",
       "      <td>Mujer</td>\n",
       "      <td>1.0</td>\n",
       "      <td>1.0</td>\n",
       "      <td>1.0</td>\n",
       "      <td>0.0</td>\n",
       "      <td>46.0</td>\n",
       "      <td>4</td>\n",
       "      <td>NaN</td>\n",
       "      <td>5.521461</td>\n",
       "    </tr>\n",
       "    <tr>\n",
       "      <th>4</th>\n",
       "      <td>Guerrero</td>\n",
       "      <td>21.0</td>\n",
       "      <td>decidiÓ empezar a trabajar</td>\n",
       "      <td>NaN</td>\n",
       "      <td>NaN</td>\n",
       "      <td>1500.0</td>\n",
       "      <td>Hombre</td>\n",
       "      <td>1.0</td>\n",
       "      <td>0.0</td>\n",
       "      <td>1.0</td>\n",
       "      <td>0.0</td>\n",
       "      <td>53.0</td>\n",
       "      <td>5</td>\n",
       "      <td>NaN</td>\n",
       "      <td>7.313220</td>\n",
       "    </tr>\n",
       "  </tbody>\n",
       "</table>\n",
       "</div>"
      ],
      "text/plain": [
       "    entidad  edad                        raba  edu hextra_edu       w    sexo  \\\n",
       "0  Guerrero  19.0                         NaN  NaN    ninguno   350.0   Mujer   \n",
       "1  Guerrero  17.0  decidiÓ empezar a trabajar  NaN        NaN   650.0   Mujer   \n",
       "2  Guerrero  19.0                         NaN  NaN        NaN   250.0  Hombre   \n",
       "3  Guerrero  15.0                         NaN  NaN        NaN   250.0   Mujer   \n",
       "4  Guerrero  21.0  decidiÓ empezar a trabajar  NaN        NaN  1500.0  Hombre   \n",
       "\n",
       "    li  ecivil   dh  reprobacion  trend  i edu_num        lw  \n",
       "0  1.0     0.0  1.0          0.0    2.0  1     NaN  5.857933  \n",
       "1  1.0     1.0  1.0          0.0   14.0  2     NaN  6.476972  \n",
       "2  1.0     1.0  1.0          0.0   41.0  3     NaN  5.521461  \n",
       "3  1.0     1.0  1.0          0.0   46.0  4     NaN  5.521461  \n",
       "4  1.0     0.0  1.0          0.0   53.0  5     NaN  7.313220  "
      ]
     },
     "execution_count": 32,
     "metadata": {},
     "output_type": "execute_result"
    }
   ],
   "source": [
    "%%time\n",
    "import numpy as np \n",
    "\n",
    "df['lw'] = np.log(df['w'])\n",
    "df.head()"
   ]
  },
  {
   "cell_type": "markdown",
   "id": "049f3791-8456-4cd9-9dd7-36e4256bf6af",
   "metadata": {},
   "source": [
    "### 14. MCO (log-lineal)"
   ]
  },
  {
   "cell_type": "markdown",
   "id": "261c1818-033e-47fb-9f59-a234ba68e7b0",
   "metadata": {},
   "source": [
    "#### 14.1 Generar regresion "
   ]
  },
  {
   "cell_type": "code",
   "execution_count": 33,
   "id": "330c6025-4b1e-4faa-9eca-1ab1454849a0",
   "metadata": {},
   "outputs": [
    {
     "name": "stdout",
     "output_type": "stream",
     "text": [
      "                            OLS Regression Results                            \n",
      "==============================================================================\n",
      "Dep. Variable:                     lw   R-squared:                       0.186\n",
      "Model:                            OLS   Adj. R-squared:                  0.181\n",
      "Method:                 Least Squares   F-statistic:                     41.22\n",
      "Date:                Fri, 13 Jun 2025   Prob (F-statistic):           3.86e-31\n",
      "Time:                        15:40:52   Log-Likelihood:                -993.69\n",
      "No. Observations:                 727   AIC:                             1997.\n",
      "Df Residuals:                     722   BIC:                             2020.\n",
      "Df Model:                           4                                         \n",
      "Covariance Type:            nonrobust                                         \n",
      "==================================================================================\n",
      "                     coef    std err          t      P>|t|      [0.025      0.975]\n",
      "----------------------------------------------------------------------------------\n",
      "const              4.9048      0.266     18.452      0.000       4.383       5.427\n",
      "ecivil            -1.1140      0.249     -4.476      0.000      -1.603      -0.625\n",
      "edu_num            0.2878      0.029      9.917      0.000       0.231       0.345\n",
      "dh                 0.3747      0.145      2.585      0.010       0.090       0.659\n",
      "hextra_edu_num     0.0069      0.003      2.744      0.006       0.002       0.012\n",
      "==============================================================================\n",
      "Omnibus:                        0.529   Durbin-Watson:                   1.883\n",
      "Prob(Omnibus):                  0.768   Jarque-Bera (JB):                0.626\n",
      "Skew:                          -0.026   Prob(JB):                        0.731\n",
      "Kurtosis:                       2.866   Cond. No.                         182.\n",
      "==============================================================================\n",
      "\n",
      "Notes:\n",
      "[1] Standard Errors assume that the covariance matrix of the errors is correctly specified.\n",
      "CPU times: total: 125 ms\n",
      "Wall time: 16 ms\n"
     ]
    },
    {
     "name": "stderr",
     "output_type": "stream",
     "text": [
      "<timed exec>:9: FutureWarning: Downcasting behavior in `replace` is deprecated and will be removed in a future version. To retain the old behavior, explicitly call `result.infer_objects(copy=False)`. To opt-in to the future behavior, set `pd.set_option('future.no_silent_downcasting', True)`\n",
      "<timed exec>:9: FutureWarning: The behavior of Series.replace (and DataFrame.replace) with CategoricalDtype is deprecated. In a future version, replace will only be used for cases that preserve the categories. To change the categories, use ser.cat.rename_categories instead.\n"
     ]
    }
   ],
   "source": [
    "%%time\n",
    "import statsmodels.api as sm\n",
    "import numpy as np\n",
    "\n",
    "df_reg2 = df[['lw', 'ecivil', 'edu_num', 'dh', 'hextra_edu']].copy()\n",
    "\n",
    "# Remplazar categorias )\n",
    "hextra_map = {'ninguno': 0, 'no sabe': 98}\n",
    "df_reg2['hextra_edu_num'] = df_reg2['hextra_edu'].replace(hextra_map)\n",
    "df_reg2['hextra_edu_num'] = pd.to_numeric(df_reg2['hextra_edu_num'], errors='coerce')\n",
    "\n",
    "# Quitar valores null \n",
    "df_reg2 = df_reg2.dropna().reset_index(drop=True)\n",
    "\n",
    "# Las variables X, y\n",
    "X2 = df_reg2[['ecivil', 'edu_num', 'dh', 'hextra_edu_num']]\n",
    "y2 = df_reg2['lw']\n",
    "X2 = sm.add_constant(X2)\n",
    "\n",
    "# modelo\n",
    "model2 = sm.OLS(y2, X2).fit()\n",
    "\n",
    "print(model2.summary())"
   ]
  },
  {
   "cell_type": "markdown",
   "id": "b739a5df-25e7-49bc-b586-1f88f19a0235",
   "metadata": {},
   "source": [
    "#### 14.2 Guardar estimaciones y residuales"
   ]
  },
  {
   "cell_type": "code",
   "execution_count": 34,
   "id": "26bb68e8-ce40-40db-9cbc-6ae8fef25bb7",
   "metadata": {},
   "outputs": [
    {
     "name": "stdout",
     "output_type": "stream",
     "text": [
      "CPU times: total: 0 ns\n",
      "Wall time: 12.5 ms\n"
     ]
    }
   ],
   "source": [
    "%%time\n",
    "\n",
    "with open(path_out + \"mco_ln_regression_summary.txt\", \"w\") as f:\n",
    "    f.write(str(model2.summary()))\n",
    "    f.close()\n",
    "\n",
    "with open(path_out + \"mco_ln_residuales.txt\", \"w\") as f:\n",
    "    for v in model.resid: \n",
    "        f.write(f\"{v}\\n\")\n",
    "    f.close()"
   ]
  },
  {
   "cell_type": "markdown",
   "id": "3854aaef-e35d-4290-9870-f8a26b7dcf3d",
   "metadata": {},
   "source": [
    "#### 14.3 Normalidad \n",
    "\n",
    "Los residuos del modelo log-lineal tienen una curtosis ≈2.866 (absoluta, cercana a 3 de la normal) y un p-value alto (0.7677), lo que indica una distribución similar a la normal, a diferencia de la curtosis del modelo original de 30.1008."
   ]
  },
  {
   "cell_type": "code",
   "execution_count": 35,
   "id": "70afd842-18f7-406f-99a9-78948a419ab7",
   "metadata": {},
   "outputs": [
    {
     "name": "stdout",
     "output_type": "stream",
     "text": [
      "Obs:  727\n",
      "Skew: -0.0260\n",
      "Kurtosis: -0.1340\n",
      "statistics: 0.5288\n",
      "Pvalue: 0.7677\n",
      "\n",
      "Fail to reject null: Residuals are normally distributed.\n",
      "CPU times: total: 0 ns\n",
      "Wall time: 4 ms\n"
     ]
    }
   ],
   "source": [
    "%%time\n",
    "from scipy.stats import normaltest, skew, kurtosis, chi2 \n",
    "\n",
    "residuales2 = model2.resid\n",
    "\n",
    "n_obs = len(residuales2)\n",
    "\n",
    "# skew & kurtosis \n",
    "skew_val = skew(residuales2, bias = False)\n",
    "kurtosis_val = kurtosis(residuales2)\n",
    "statistics, pvalue = normaltest(residuales2)\n",
    "\n",
    "print(\"Obs: \", n_obs)\n",
    "print(f\"Skew: {skew_val:.4f}\")\n",
    "print(f\"Kurtosis: {kurtosis_val:.4f}\")\n",
    "print(f\"statistics: {statistics:.4f}\")\n",
    "print(f\"Pvalue: {pvalue:.4f}\")\n",
    "\n",
    "print('')\n",
    "if pvalue <0.05:\n",
    "    print(\"Null hypothesis rejected\")\n",
    "    print(\"The residuals are not normally distributted!\")\n",
    "else: \n",
    "    print(\"Fail to reject null: Residuals are normally distributed.\")"
   ]
  },
  {
   "cell_type": "markdown",
   "id": "66b1a293-ae92-4103-ba40-761b10883bb6",
   "metadata": {},
   "source": [
    "#### 14.4 Heterocedasticidad"
   ]
  },
  {
   "cell_type": "code",
   "execution_count": 36,
   "id": "1fe1d3f5-759c-4c0f-9de9-c764f3ea2487",
   "metadata": {},
   "outputs": [
    {
     "name": "stdout",
     "output_type": "stream",
     "text": [
      "Breusch-Pagan test statistic (chi2): 8.6298\n",
      "P-value (LM test): 0.0033\n",
      "F-statistic: 8.7095\n",
      "P-value (F-test): 0.0033\n",
      "Null hypothesis rejected: Residuals exhibit heteroskedasticity!\n"
     ]
    }
   ],
   "source": [
    "from statsmodels.stats.diagnostic import het_breuschpagan\n",
    "\n",
    "bp_test = het_breuschpagan(model2.resid, sm.add_constant(model2.fittedvalues))\n",
    "bp_stat, bp_pval, f_stat, f_pval = bp_test\n",
    "\n",
    "print(f\"Breusch-Pagan test statistic (chi2): {bp_stat:.4f}\")\n",
    "print(f\"P-value (LM test): {bp_pval:.4f}\")\n",
    "print(f\"F-statistic: {f_stat:.4f}\")\n",
    "print(f\"P-value (F-test): {f_pval:.4f}\")\n",
    "\n",
    "if bp_pval < 0.05:\n",
    "    print(\"Null hypothesis rejected: Residuals exhibit heteroskedasticity!\")\n",
    "else:\n",
    "    print(\"Fail to reject null: No evidence of heteroskedasticity.\")"
   ]
  },
  {
   "cell_type": "markdown",
   "id": "064a021c-617f-47c6-9e9d-954a1f978f59",
   "metadata": {},
   "source": [
    "#### 14.5 Linealidad"
   ]
  },
  {
   "cell_type": "code",
   "execution_count": 37,
   "id": "a92c95e6-4a52-47bf-8484-1229f236dc22",
   "metadata": {},
   "outputs": [
    {
     "name": "stdout",
     "output_type": "stream",
     "text": [
      "RESET F-statistic: 2.9432, P-value: 0.0323\n",
      "<F test: F=2.943166088391005, p=0.032336903470004154, df_denom=719, df_num=3>\n"
     ]
    }
   ],
   "source": [
    "import numpy as np\n",
    "import statsmodels.api as sm\n",
    "\n",
    "fitted_values = model2.fittedvalues\n",
    "exog = model2.model.exog\n",
    "\n",
    "yhat2 = fitted_values**2\n",
    "yhat3 = fitted_values**3\n",
    "yhat4 = fitted_values**4\n",
    "\n",
    "exog_augmented = np.column_stack((exog, yhat2, yhat3, yhat4))\n",
    "augmented_model = sm.OLS(model2.model.endog, exog_augmented).fit(cov_type='HC3')\n",
    "restrictions = np.zeros((3, exog_augmented.shape[1]))\n",
    "restrictions[:, -3:] = np.eye(3)\n",
    "f_test = augmented_model.f_test(restrictions)\n",
    "\n",
    "print(f\"RESET F-statistic: {f_test.statistic:.4f}, P-value: {f_test.pvalue:.4f}\")\n",
    "print(f_test.summary())"
   ]
  },
  {
   "cell_type": "markdown",
   "id": "6a03c199-a803-45ab-8137-7533b11fd8c4",
   "metadata": {},
   "source": [
    "#### 14.6 VIF Multicolinaliedad "
   ]
  },
  {
   "cell_type": "code",
   "execution_count": 38,
   "id": "dc66ed8f-edd3-48f5-b325-df4e233a6cab",
   "metadata": {},
   "outputs": [
    {
     "name": "stdout",
     "output_type": "stream",
     "text": [
      "         Variable        VIF     1/VIF\n",
      "0           const  56.615337  0.017663\n",
      "1          ecivil   1.002933  0.997075\n",
      "2         edu_num   1.081283  0.924827\n",
      "3              dh   1.018442  0.981892\n",
      "4  hextra_edu_num   1.064174  0.939696\n",
      "\n",
      "Mean VIF: 1.04\n",
      "CPU times: total: 15.6 ms\n",
      "Wall time: 10 ms\n"
     ]
    },
    {
     "name": "stderr",
     "output_type": "stream",
     "text": [
      "<timed exec>:10: FutureWarning: Downcasting behavior in `replace` is deprecated and will be removed in a future version. To retain the old behavior, explicitly call `result.infer_objects(copy=False)`. To opt-in to the future behavior, set `pd.set_option('future.no_silent_downcasting', True)`\n",
      "<timed exec>:10: FutureWarning: The behavior of Series.replace (and DataFrame.replace) with CategoricalDtype is deprecated. In a future version, replace will only be used for cases that preserve the categories. To change the categories, use ser.cat.rename_categories instead.\n"
     ]
    }
   ],
   "source": [
    "%%time\n",
    "from statsmodels.stats.outliers_influence import variance_inflation_factor\n",
    "import pandas as pd\n",
    "\n",
    "df_reg2 = df[['lw', 'ecivil', 'edu_num', 'dh', 'hextra_edu']].copy()\n",
    "\n",
    "# Remplazo de categorias \n",
    "hextra_map = {'ninguno': 0, 'no sabe': 98}\n",
    "df_reg2['hextra_edu_num'] = df_reg2['hextra_edu'].replace(hextra_map)\n",
    "df_reg2['hextra_edu_num'] = pd.to_numeric(df_reg2['hextra_edu_num'], errors='coerce')\n",
    "\n",
    "# Quitar valores nulos \n",
    "df_reg2 = df_reg2.dropna().reset_index(drop=True)\n",
    "\n",
    "X2 = df_reg2[['ecivil', 'edu_num', 'dh', 'hextra_edu_num']]\n",
    "X2 = sm.add_constant(X2)\n",
    "\n",
    "vif_data2 = pd.DataFrame()\n",
    "vif_data2[\"Variable\"] = X2.columns  # ✅ Correct: use X2\n",
    "vif_data2[\"VIF\"] = [variance_inflation_factor(X2.values, i) for i in range(X2.shape[1])]\n",
    "vif_data2[\"1/VIF\"] = 1 / vif_data2[\"VIF\"]\n",
    "\n",
    "# Media VIF\n",
    "mean_vif2 = vif_data2.loc[vif_data2[\"Variable\"] != \"const\", \"VIF\"].mean()\n",
    "\n",
    "print(vif_data2)\n",
    "print(f\"\\nMean VIF: {mean_vif2:.2f}\")"
   ]
  },
  {
   "cell_type": "markdown",
   "id": "bd61891e-4a09-4b44-97d2-1090cb66a027",
   "metadata": {},
   "source": [
    "### 15. Reportar resultados "
   ]
  },
  {
   "cell_type": "code",
   "execution_count": 39,
   "id": "d2fabb32-a1f2-41eb-8cef-62695808776d",
   "metadata": {},
   "outputs": [
    {
     "name": "stdout",
     "output_type": "stream",
     "text": [
      "CPU times: total: 0 ns\n",
      "Wall time: 0 ns\n",
      "\n",
      "Model Comparison Table\n",
      "----------------------------------------\n",
      "      Variable           mco      ln_mco\n",
      "         const  418.58680581  4.90481013\n",
      "        ecivil -435.24834304 -1.11396536\n",
      "       edu_num   60.16576247  0.28780473\n",
      "            dh   88.55405773  0.37470346\n",
      "hextra_edu_num    2.18603886  0.00689721\n",
      "            r2    0.14822324  0.18590688\n",
      "          r2_a    0.14350426  0.18139667\n",
      "             F   31.40998562 41.21910673\n",
      "          rmse  273.70537512  0.95251349\n",
      "----------------------------------------\n"
     ]
    }
   ],
   "source": [
    "%time\n",
    "import pandas as pd\n",
    "import numpy as np\n",
    "\n",
    "variables = ['const', 'ecivil', 'edu_num', 'dh', 'hextra_edu_num']\n",
    "stats = ['r2', 'r2_a', 'F', 'rmse']\n",
    "\n",
    "# Crear el diccionario para la tabla \n",
    "table_data = {\n",
    "    'Variable': variables + stats,\n",
    "    'mco': [model.params.get(var, np.nan) for var in variables] + \n",
    "           [model.rsquared, model.rsquared_adj, model.fvalue, np.sqrt(model.mse_resid)],\n",
    "    'ln_mco': [model2.params.get(var, np.nan) for var in variables] + \n",
    "              [model2.rsquared, model2.rsquared_adj, model2.fvalue, np.sqrt(model2.mse_resid)]\n",
    "}\n",
    "\n",
    "table = pd.DataFrame(table_data)\n",
    "\n",
    "# Formateo de valores \n",
    "table['mco'] = table['mco'].apply(lambda x: f\"{x:.8f}\" if not np.isnan(x) else '')\n",
    "table['ln_mco'] = table['ln_mco'].apply(lambda x: f\"{x:.8f}\" if not np.isnan(x) else '')\n",
    "\n",
    "# Ajustar las filas \n",
    "#table.loc[table['Variable'] == 'r2', ['mco', 'ln_mco']] = table.loc[table['Variable'] == 'r2', ['mco', 'ln_mco']].apply(lambda x: x.str[:10])  # .14822324\n",
    "#table.loc[table['Variable'] == 'r2_a', ['mco', 'ln_mco']] = table.loc[table['Variable'] == 'r2_a', ['mco', 'ln_mco']].apply(lambda x: x.str[:10])  # .14350426\n",
    "#table.loc[table['Variable'] == 'F', ['mco', 'ln_mco']] = table.loc[table['Variable'] == 'F', ['mco', 'ln_mco']].apply(lambda x: x.str[:9])  # 31.409986\n",
    "#table.loc[table['Variable'] == 'rmse', ['mco', 'ln_mco']] = table.loc[table['Variable'] == 'rmse', ['mco', 'ln_mco']].apply(lambda x: x.str[:9])  # 273.70538\n",
    "\n",
    "print(\"\\nModel Comparison Table\")\n",
    "print(\"-\" * 40)\n",
    "print(table.to_string(index=False))\n",
    "print(\"-\" * 40)"
   ]
  },
  {
   "cell_type": "markdown",
   "id": "dbe96534-3f29-40d3-9df1-bcf3d857dc46",
   "metadata": {},
   "source": [
    "### 16. Pruebas F para los valores de una variable (Test Wald)"
   ]
  },
  {
   "cell_type": "code",
   "execution_count": 40,
   "id": "8e6b087a-29fb-48d7-88b8-3d6cd1305511",
   "metadata": {},
   "outputs": [
    {
     "name": "stdout",
     "output_type": "stream",
     "text": [
      "<F test: F=7.527827341855249, p=0.006226089457427942, df_denom=722, df_num=1>\n",
      "CPU times: total: 0 ns\n",
      "Wall time: 2 ms\n"
     ]
    }
   ],
   "source": [
    "%%time\n",
    "\n",
    "f_test_result = model2.f_test(\"hextra_edu_num = 0\")\n",
    "print(f_test_result)"
   ]
  },
  {
   "cell_type": "code",
   "execution_count": 41,
   "id": "6c50e613-0760-4054-a733-f2a735b9e679",
   "metadata": {},
   "outputs": [
    {
     "name": "stdout",
     "output_type": "stream",
     "text": [
      "<F test: F=0.1765899775083209, p=0.674445318736647, df_denom=722, df_num=1>\n",
      "CPU times: total: 0 ns\n",
      "Wall time: 2 ms\n"
     ]
    }
   ],
   "source": [
    "%%time\n",
    "\n",
    "f_test_result = model2.f_test(\"edu_num = 0.30\")\n",
    "print(f_test_result)"
   ]
  },
  {
   "cell_type": "markdown",
   "id": "d1e1a6b4-6d48-471a-8dde-770d05bbed53",
   "metadata": {},
   "source": [
    "### 17. Efectos marginales: pruebas de hipotesis como combinacion lineal "
   ]
  },
  {
   "cell_type": "code",
   "execution_count": 42,
   "id": "4226cfa3-d5bc-4629-a59e-91b5f66db206",
   "metadata": {},
   "outputs": [
    {
     "name": "stdout",
     "output_type": "stream",
     "text": [
      "                             Test for Constraints                             \n",
      "==============================================================================\n",
      "                 coef    std err          t      P>|t|      [0.025      0.975]\n",
      "------------------------------------------------------------------------------\n",
      "c0             0.6625      0.144      4.596      0.000       0.379       0.946\n",
      "==============================================================================\n",
      "CPU times: total: 31.2 ms\n",
      "Wall time: 2 ms\n"
     ]
    }
   ],
   "source": [
    "%%time\n",
    "\n",
    "# Combinacion lineal: edu_num + dh = 0\n",
    "lincom_result = model2.t_test(\"edu_num + dh = 0\")\n",
    "print(lincom_result)"
   ]
  },
  {
   "cell_type": "markdown",
   "id": "b96e7f52-8c08-4d33-a321-1fe79893ef76",
   "metadata": {},
   "source": [
    "### 18. Test conjuntos: pruebas conjuntas "
   ]
  },
  {
   "cell_type": "code",
   "execution_count": 43,
   "id": "c5fca10a-b797-48c3-a872-8c751060c269",
   "metadata": {},
   "outputs": [
    {
     "name": "stdout",
     "output_type": "stream",
     "text": [
      "                             Test for Constraints                             \n",
      "==============================================================================\n",
      "                 coef    std err          t      P>|t|      [0.025      0.975]\n",
      "------------------------------------------------------------------------------\n",
      "c0            -0.4887      0.178     -2.739      0.006      -0.839      -0.138\n",
      "==============================================================================\n",
      "CPU times: total: 0 ns\n",
      "Wall time: 1.72 ms\n"
     ]
    }
   ],
   "source": [
    "%%time\n",
    "\n",
    "t_result = model2.t_test(\"dh - 3 * edu_num = 0\")\n",
    "print(t_result)"
   ]
  },
  {
   "cell_type": "markdown",
   "id": "09921fb4-05fd-4ed3-8322-5b4755ef81e8",
   "metadata": {},
   "source": [
    "### 19. Pruebas de hipotesis no lineales "
   ]
  },
  {
   "cell_type": "code",
   "execution_count": 44,
   "id": "391dcb98-7a6f-4039-b44b-9fa69c37cf91",
   "metadata": {},
   "outputs": [
    {
     "name": "stdout",
     "output_type": "stream",
     "text": [
      "Chi2(1) = 15.67\n",
      "Prob > chi2 = 0.0001\n",
      "CPU times: total: 0 ns\n",
      "Wall time: 2.03 ms\n"
     ]
    }
   ],
   "source": [
    "%%time\n",
    "import numpy as np\n",
    "from scipy.stats import chi2\n",
    "\n",
    "# Obtener los parametros estimados de la matriz de varianza-covarianza\n",
    "params = model2.params\n",
    "cov = model2.cov_params()\n",
    "\n",
    "# Definir la funcion  no-lineal y el gradiente \n",
    "b_edu = params['edu_num']\n",
    "b_dh = params['dh']\n",
    "b_ecivil = params['ecivil']\n",
    "\n",
    "# hacer el calculo \n",
    "f = b_edu * b_dh + b_ecivil\n",
    "\n",
    "# Vector gradiente de \"f\" con respecto a los parametros \n",
    "grad = np.zeros(len(params))\n",
    "param_names = params.index.tolist()\n",
    "grad[param_names.index('edu_num')] = b_dh\n",
    "grad[param_names.index('dh')] = b_edu\n",
    "grad[param_names.index('ecivil')] = 1\n",
    "\n",
    "# Varianza de la combinacion no lineal (metodo delta) \n",
    "var_f = grad @ cov @ grad.T\n",
    "chi2_stat = (f ** 2) / var_f\n",
    "\n",
    "p_value = 1 - chi2.cdf(chi2_stat, df=1)\n",
    "\n",
    "print(f\"Chi2(1) = {chi2_stat:.2f}\")\n",
    "print(f\"Prob > chi2 = {p_value:.4f}\")"
   ]
  },
  {
   "cell_type": "markdown",
   "id": "669102d0-6e17-4915-8bd5-da0e6b348d57",
   "metadata": {},
   "source": [
    "### 20. Combinacion lineal de hipotesis"
   ]
  },
  {
   "cell_type": "code",
   "execution_count": 45,
   "id": "6e49200f-840a-4425-a33d-d407e4db5ee6",
   "metadata": {},
   "outputs": [
    {
     "name": "stdout",
     "output_type": "stream",
     "text": [
      "Nonlinear combination:\n",
      "Estimate:      -1.006124\n",
      "Std. Error:    0.254152\n",
      "z:             -3.96\n",
      "P>|z|:         0.0001\n",
      "[95% Conf. Interval]: (-1.504261, -0.507987)\n",
      "CPU times: total: 0 ns\n",
      "Wall time: 0 ns\n"
     ]
    }
   ],
   "source": [
    "%%time\n",
    "import numpy as np\n",
    "import pandas as pd\n",
    "from scipy import stats\n",
    "\n",
    "# Obtener los parametros y la matriz de covarianza\n",
    "params = model2.params\n",
    "cov = model2.cov_params()\n",
    "\n",
    "# Extraer coeficientes\n",
    "b_edu = params['edu_num']\n",
    "b_dh = params['dh']\n",
    "b_ecivil = params['ecivil']\n",
    "\n",
    "# Combinacion No-lineal: b_edu * b_dh + b_ecivil\n",
    "nlcom = b_edu * b_dh + b_ecivil\n",
    "\n",
    "# Gradiente de la expresion (w.r.t.) parametros (derivadas parciales)\n",
    "grad = np.zeros(len(params))\n",
    "grad[params.index.get_loc('edu_num')] = b_dh\n",
    "grad[params.index.get_loc('dh')] = b_edu\n",
    "grad[params.index.get_loc('ecivil')] = 1\n",
    "\n",
    "# Varianza via el metodo delta\n",
    "var_nlcom = grad @ cov @ grad.T # multiplicacion de matriz (parecido a np.dot())\n",
    "se_nlcom = np.sqrt(var_nlcom)\n",
    "\n",
    "# z-statistico\n",
    "z = nlcom / se_nlcom\n",
    "p_value = 2 * (1 - stats.norm.cdf(abs(z)))\n",
    "\n",
    "# 95% CI\n",
    "ci_low = nlcom - 1.96 * se_nlcom\n",
    "ci_high = nlcom + 1.96 * se_nlcom\n",
    "\n",
    "print(\"Nonlinear combination:\")\n",
    "print(f\"Estimate:      {nlcom:.6f}\")\n",
    "print(f\"Std. Error:    {se_nlcom:.6f}\")\n",
    "print(f\"z:             {z:.2f}\")\n",
    "print(f\"P>|z|:         {p_value:.4f}\")\n",
    "print(f\"[95% Conf. Interval]: ({ci_low:.6f}, {ci_high:.6f})\")"
   ]
  },
  {
   "cell_type": "markdown",
   "id": "d3ce1aaf-fbb2-4857-9183-28a1d53d3f19",
   "metadata": {},
   "source": [
    "### 21. Regresion condicionada "
   ]
  },
  {
   "cell_type": "code",
   "execution_count": 46,
   "id": "73b5d247-b402-4e65-8eb7-7ecf888769ba",
   "metadata": {},
   "outputs": [
    {
     "name": "stdout",
     "output_type": "stream",
     "text": [
      "                            OLS Regression Results                            \n",
      "==============================================================================\n",
      "Dep. Variable:                     lw   R-squared:                       0.194\n",
      "Model:                            OLS   Adj. R-squared:                  0.187\n",
      "Method:                 Least Squares   F-statistic:                     26.87\n",
      "Date:                Fri, 13 Jun 2025   Prob (F-statistic):           5.40e-20\n",
      "Time:                        15:40:58   Log-Likelihood:                -587.94\n",
      "No. Observations:                 452   AIC:                             1186.\n",
      "Df Residuals:                     447   BIC:                             1206.\n",
      "Df Model:                           4                                         \n",
      "Covariance Type:            nonrobust                                         \n",
      "==================================================================================\n",
      "                     coef    std err          t      P>|t|      [0.025      0.975]\n",
      "----------------------------------------------------------------------------------\n",
      "const              4.7874      0.316     15.138      0.000       4.166       5.409\n",
      "ecivil            -0.9847      0.287     -3.428      0.001      -1.549      -0.420\n",
      "edu_num            0.2713      0.038      7.164      0.000       0.197       0.346\n",
      "dh                 0.3261      0.166      1.960      0.051      -0.001       0.653\n",
      "hextra_edu_num     0.0118      0.003      3.465      0.001       0.005       0.018\n",
      "==============================================================================\n",
      "Omnibus:                        0.820   Durbin-Watson:                   1.800\n",
      "Prob(Omnibus):                  0.663   Jarque-Bera (JB):                0.883\n",
      "Skew:                          -0.004   Prob(JB):                        0.643\n",
      "Kurtosis:                       2.784   Cond. No.                         160.\n",
      "==============================================================================\n",
      "\n",
      "Notes:\n",
      "[1] Standard Errors assume that the covariance matrix of the errors is correctly specified.\n",
      "CPU times: total: 125 ms\n",
      "Wall time: 15.1 ms\n"
     ]
    },
    {
     "name": "stderr",
     "output_type": "stream",
     "text": [
      "<timed exec>:11: FutureWarning: Downcasting behavior in `replace` is deprecated and will be removed in a future version. To retain the old behavior, explicitly call `result.infer_objects(copy=False)`. To opt-in to the future behavior, set `pd.set_option('future.no_silent_downcasting', True)`\n",
      "<timed exec>:11: FutureWarning: The behavior of Series.replace (and DataFrame.replace) with CategoricalDtype is deprecated. In a future version, replace will only be used for cases that preserve the categories. To change the categories, use ser.cat.rename_categories instead.\n"
     ]
    }
   ],
   "source": [
    "%%time\n",
    "import statsmodels.api as sm\n",
    "import pandas as pd\n",
    "import numpy as np\n",
    "\n",
    "# Hacer una copia de las variables \n",
    "df_reg3 = df[['lw', 'sexo', 'ecivil', 'edu_num', 'dh', 'hextra_edu']].copy()\n",
    "df_reg3 = df_reg3[df_reg3[\"sexo\"] == \"Hombre\"].reset_index(drop=True)\n",
    "\n",
    "# Remplazar categorias\n",
    "hextra_map = {'ninguno': 0, 'no sabe': 98}\n",
    "df_reg3['hextra_edu_num'] = df_reg3['hextra_edu'].replace(hextra_map)\n",
    "df_reg3['hextra_edu_num'] = pd.to_numeric(df_reg3['hextra_edu_num'], errors='coerce')\n",
    "\n",
    "# Quitar valores nulos \n",
    "df_reg3 = df_reg3.dropna().reset_index(drop=True)\n",
    "\n",
    "# variables X, y\n",
    "X3 = df_reg3[['ecivil', 'edu_num', 'dh', 'hextra_edu_num']]\n",
    "y3 = df_reg3['lw']\n",
    "X3 = sm.add_constant(X3)\n",
    "\n",
    "model3 = sm.OLS(y3, X3).fit() # el modelo \n",
    "\n",
    "print(model3.summary())"
   ]
  },
  {
   "cell_type": "markdown",
   "id": "325aa8cb-1191-4dfc-806c-9ade157c356d",
   "metadata": {},
   "source": [
    "### 22. Generando la varianza a partir de la desviacion estandar "
   ]
  },
  {
   "cell_type": "markdown",
   "id": "32b2a2d0-0350-4ac9-aa93-88af671616d1",
   "metadata": {},
   "source": [
    "#### 22.1 Obtener las prediccones, varianza y pesos "
   ]
  },
  {
   "cell_type": "code",
   "execution_count": 47,
   "id": "1ef69448-e630-4279-87bf-51c9932b0a60",
   "metadata": {},
   "outputs": [
    {
     "name": "stdout",
     "output_type": "stream",
     "text": [
      "CPU times: total: 0 ns\n",
      "Wall time: 3.01 ms\n"
     ]
    }
   ],
   "source": [
    "%%time\n",
    "\n",
    "predictions = model.get_prediction()\n",
    "\n",
    "df_reg['de'] = predictions.se_mean  # la media del error \n",
    "df_reg['var'] = df_reg['de'] ** 2\n",
    "df_reg['weight'] = 1 / df_reg['var']"
   ]
  },
  {
   "cell_type": "markdown",
   "id": "183d2d0e-9fa8-4e4c-a2a7-145b10a9d159",
   "metadata": {},
   "source": [
    "### 23. Regresion ponderada  "
   ]
  },
  {
   "cell_type": "markdown",
   "id": "0601d255-5b63-4acc-ad5f-25ca6a30ca43",
   "metadata": {},
   "source": [
    "#### 23.1 Regresión con la varianza de los residuos (1 / residuo²)"
   ]
  },
  {
   "cell_type": "code",
   "execution_count": 48,
   "id": "6f67d587-4e13-4dbb-8075-bcf216ddc537",
   "metadata": {},
   "outputs": [
    {
     "name": "stdout",
     "output_type": "stream",
     "text": [
      "                            WLS Regression Results                            \n",
      "==============================================================================\n",
      "Dep. Variable:                      w   R-squared:                       0.994\n",
      "Model:                            WLS   Adj. R-squared:                  0.994\n",
      "Method:                 Least Squares   F-statistic:                 2.943e+04\n",
      "Date:                Fri, 13 Jun 2025   Prob (F-statistic):               0.00\n",
      "Time:                        15:40:59   Log-Likelihood:                -4365.0\n",
      "No. Observations:                 727   AIC:                             8740.\n",
      "Df Residuals:                     722   BIC:                             8763.\n",
      "Df Model:                           4                                         \n",
      "Covariance Type:            nonrobust                                         \n",
      "==================================================================================\n",
      "                     coef    std err          t      P>|t|      [0.025      0.975]\n",
      "----------------------------------------------------------------------------------\n",
      "const            421.8882      2.460    171.529      0.000     417.059     426.717\n",
      "ecivil          -433.3138      1.320   -328.315      0.000    -435.905    -430.723\n",
      "edu_num           58.6823      0.706     83.087      0.000      57.296      60.069\n",
      "dh                62.4174      8.556      7.295      0.000      45.620      79.215\n",
      "hextra_edu_num     2.0611      0.070     29.314      0.000       1.923       2.199\n",
      "==============================================================================\n",
      "Omnibus:                     4922.846   Durbin-Watson:                   1.765\n",
      "Prob(Omnibus):                  0.000   Jarque-Bera (JB):              122.333\n",
      "Skew:                           0.643   Prob(JB):                     2.73e-27\n",
      "Kurtosis:                       1.456   Cond. No.                         281.\n",
      "==============================================================================\n",
      "\n",
      "Notes:\n",
      "[1] Standard Errors assume that the covariance matrix of the errors is correctly specified.\n"
     ]
    }
   ],
   "source": [
    "%%time\n",
    "\n",
    "# 1. Obtener la regresion \n",
    "X_ols = sm.add_constant(df_reg[['ecivil', 'edu_num', 'dh', 'hextra_edu_num']])\n",
    "y = df_reg['w']\n",
    "ols_model = sm.OLS(y, X_ols).fit()\n",
    "\n",
    "# 2: Obtener los residuales y la varianza \n",
    "residuals = ols_model.resid\n",
    "df_reg['var'] = residuals ** 2\n",
    "df_reg['weight'] = 1 / df_reg['var']\n",
    "\n",
    "# Opcional (hay un tema con le filtrado interno de stata)\n",
    "#df_reg = df_reg[df_reg['weight'] >= 0.006]\n",
    "\n",
    "# 3: nuevos pesos\n",
    "X_wls = sm.add_constant(df_reg[['ecivil', 'edu_num', 'dh', 'hextra_edu_num']])\n",
    "y_wls = df_reg['w']\n",
    "weights = df_reg['weight']\n",
    "\n",
    "model_wls = sm.WLS(y_wls, X_wls, weights=weights).fit()\n",
    "print(model_wls.summary())"
   ]
  },
  {
   "cell_type": "markdown",
   "id": "d3df1502-dccb-4254-8767-09b0901cc8df",
   "metadata": {},
   "source": [
    "#### 23.2 Regresión con la desviacion estandar "
   ]
  },
  {
   "cell_type": "code",
   "execution_count": 52,
   "id": "10acce86-0f5e-4790-b23b-404a7e155502",
   "metadata": {
    "scrolled": true
   },
   "outputs": [
    {
     "name": "stdout",
     "output_type": "stream",
     "text": [
      "                            WLS Regression Results                            \n",
      "==============================================================================\n",
      "Dep. Variable:                      w   R-squared:                       0.994\n",
      "Model:                            WLS   Adj. R-squared:                  0.994\n",
      "Method:                 Least Squares   F-statistic:                 2.943e+04\n",
      "Date:                Fri, 13 Jun 2025   Prob (F-statistic):               0.00\n",
      "Time:                        16:03:44   Log-Likelihood:                -4365.0\n",
      "No. Observations:                 727   AIC:                             8740.\n",
      "Df Residuals:                     722   BIC:                             8763.\n",
      "Df Model:                           4                                         \n",
      "Covariance Type:            nonrobust                                         \n",
      "==================================================================================\n",
      "                     coef    std err          t      P>|t|      [0.025      0.975]\n",
      "----------------------------------------------------------------------------------\n",
      "const            421.8882      2.460    171.529      0.000     417.059     426.717\n",
      "ecivil          -433.3138      1.320   -328.315      0.000    -435.905    -430.723\n",
      "edu_num           58.6823      0.706     83.087      0.000      57.296      60.069\n",
      "dh                62.4174      8.556      7.295      0.000      45.620      79.215\n",
      "hextra_edu_num     2.0611      0.070     29.314      0.000       1.923       2.199\n",
      "==============================================================================\n",
      "Omnibus:                     4922.846   Durbin-Watson:                   1.765\n",
      "Prob(Omnibus):                  0.000   Jarque-Bera (JB):              122.333\n",
      "Skew:                           0.643   Prob(JB):                     2.73e-27\n",
      "Kurtosis:                       1.456   Cond. No.                         281.\n",
      "==============================================================================\n",
      "\n",
      "Notes:\n",
      "[1] Standard Errors assume that the covariance matrix of the errors is correctly specified.\n",
      "CPU times: total: 125 ms\n",
      "Wall time: 16.1 ms\n"
     ]
    }
   ],
   "source": [
    "%%time\n",
    "import statsmodels.api as sm\n",
    "\n",
    "# 1. Calcular la regresion \n",
    "X_ols = sm.add_constant(df_reg[['ecivil', 'edu_num', 'dh', 'hextra_edu_num']])\n",
    "y = df_reg['w']\n",
    "ols_model = sm.OLS(y, X_ols).fit()\n",
    "residuals = ols_model.resid\n",
    "\n",
    "# 2: Calcular la desviacion estandar \n",
    "df_reg['weight_sd'] = abs(residuals)  # valor absoluto de los residuales \n",
    "\n",
    "# 3: Crear los pesos como  1 / varianza = 1 / (sd^2)\n",
    "weights = 1 / (df_reg['weight_sd'] ** 2)\n",
    "\n",
    "# 4: Uso de los pesos para el modelo \n",
    "X = sm.add_constant(df_reg[['ecivil', 'edu_num', 'dh', 'hextra_edu_num']])\n",
    "model = sm.WLS(df_reg['w'], X, weights=weights).fit()\n",
    "\n",
    "print(model.summary())"
   ]
  },
  {
   "cell_type": "code",
   "execution_count": null,
   "id": "928fabc7-733a-4c63-97fa-d83c8a8c7306",
   "metadata": {},
   "outputs": [],
   "source": []
  },
  {
   "cell_type": "code",
   "execution_count": null,
   "id": "2d93346d-dcbc-4a4b-97b6-e6cee5262342",
   "metadata": {},
   "outputs": [],
   "source": []
  },
  {
   "cell_type": "code",
   "execution_count": null,
   "id": "159aa43f-9129-4810-b4cc-64105b5dea91",
   "metadata": {},
   "outputs": [],
   "source": []
  },
  {
   "cell_type": "code",
   "execution_count": null,
   "id": "ecef5772-8556-4d6d-8b53-5b006a3d819b",
   "metadata": {},
   "outputs": [],
   "source": []
  },
  {
   "cell_type": "code",
   "execution_count": null,
   "id": "b3654afb-50cd-4d19-bb22-ab8d20fe2c49",
   "metadata": {},
   "outputs": [],
   "source": []
  }
 ],
 "metadata": {
  "kernelspec": {
   "display_name": "Python [conda env:base] *",
   "language": "python",
   "name": "conda-base-py"
  },
  "language_info": {
   "codemirror_mode": {
    "name": "ipython",
    "version": 3
   },
   "file_extension": ".py",
   "mimetype": "text/x-python",
   "name": "python",
   "nbconvert_exporter": "python",
   "pygments_lexer": "ipython3",
   "version": "3.12.7"
  }
 },
 "nbformat": 4,
 "nbformat_minor": 5
}
