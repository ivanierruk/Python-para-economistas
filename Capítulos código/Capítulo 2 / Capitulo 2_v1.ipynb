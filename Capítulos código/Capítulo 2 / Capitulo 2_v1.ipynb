{
 "cells": [
  {
   "cell_type": "markdown",
   "id": "a338b9b7-b843-408c-8654-a777fa3059a7",
   "metadata": {
    "id": "a338b9b7-b843-408c-8654-a777fa3059a7"
   },
   "source": [
    "# Capítulo 2. Funciones y Condicionales"
   ]
  },
  {
   "cell_type": "markdown",
   "id": "d7537e10-1881-4fd1-9e6b-96407c9c0f2b",
   "metadata": {},
   "source": [
    "En este capítulo, introduciremos los conceptos de funciones y sentencias condicionales. Las funciones nos permiten encapsular bloques de código reutilizable, haciendo programas más organizados y eficientes. Las sentencias condicionales nos permiten ejecutar diferentes partes de nuestro código basándonos en si ciertas condiciones son verdaderas o falsas, lo que añade lógica y capacidad de toma de decisiones a los programas."
   ]
  },
  {
   "cell_type": "markdown",
   "id": "17535dce-f738-4af9-a36e-04ea519be22d",
   "metadata": {
    "id": "17535dce-f738-4af9-a36e-04ea519be22d"
   },
   "source": [
    "### 2.1 Definición de Funciones en Python (def)"
   ]
  },
  {
   "attachments": {},
   "cell_type": "markdown",
   "id": "e7266765-5697-4d41-82f2-f5793f4de24b",
   "metadata": {},
   "source": [
    "Una función, es un bloque de código con un nombre asociado que realiza una tarea específica. Las funciones nos permiten dividir programas complejos en partes más pequeñas y manejables, promueven la reutilización de código y mejoran la legibilidad. En Python, definimos una función utilizando la palabra clave “def”, seguida del nombre de la función, paréntesis (), y dos puntos “:”. El bloque de código que pertenece a la función debe estar indentado, y se le conoce como el cuerpo de la función. "
   ]
  },
  {
   "cell_type": "code",
   "execution_count": 1,
   "id": "a3363d26-d845-4285-8a23-325bdb435903",
   "metadata": {
    "colab": {
     "base_uri": "https://localhost:8080/"
    },
    "id": "a3363d26-d845-4285-8a23-325bdb435903",
    "outputId": "3dc9e703-cabe-42ac-ac9f-002a0860ebce"
   },
   "outputs": [
    {
     "name": "stdout",
     "output_type": "stream",
     "text": [
      "¡Hola desde una función!\n"
     ]
    }
   ],
   "source": [
    "\n",
    "def saludar():\n",
    "    \"\"\"Función para saludar\"\"\"\n",
    "    # Para ejecutar la función, la llamamos por su nombre seguido de paréntesis: saludar()\n",
    "    print(\"¡Hola desde una función!\")\n",
    "\n",
    "saludar()"
   ]
  },
  {
   "cell_type": "markdown",
   "id": "d6b3a6df-6dde-4f99-b885-c346b85b8788",
   "metadata": {
    "id": "d6b3a6df-6dde-4f99-b885-c346b85b8788"
   },
   "source": [
    "#### 2.1.1 Argumentos y Parámetros\n",
    "\n",
    "Las funciones pueden recibir información del exterior a través de argumentos. Cuando definimos una función, especificamos parámetros, que son variables que recibirán los valores de los argumentos cuando la función sea llamada."
   ]
  },
  {
   "cell_type": "code",
   "execution_count": null,
   "id": "06c010ef-a6b7-4c10-ab1b-fa7cc5d1eff4",
   "metadata": {
    "colab": {
     "base_uri": "https://localhost:8080/"
    },
    "id": "06c010ef-a6b7-4c10-ab1b-fa7cc5d1eff4",
    "outputId": "50de105a-4ef0-4ffd-b623-28907d5f1a0c"
   },
   "outputs": [
    {
     "name": "stdout",
     "output_type": "stream",
     "text": [
      "El impuesto a pagar es: 10000.0\n",
      "El impuesto a pagar es: 18750.0\n"
     ]
    }
   ],
   "source": [
    "def calcular_impuesto(ingreso, tasa_impositiva):\n",
    "    \"\"\"  \"\"\"\n",
    "    impuesto = ingreso * tasa_impositiva\n",
    "    print(\"El impuesto a pagar es:\", impuesto)\n",
    "\n",
    "\n",
    "# Al llamar la función, proporcionamos los argumentos:\n",
    "calcular_impuesto(50000, 0.20)\n",
    "calcular_impuesto(75000, 0.25)"
   ]
  },
  {
   "cell_type": "markdown",
   "id": "d5c6aea8-be92-490a-929e-d79b383ee57d",
   "metadata": {},
   "source": [
    "En este ejemplo, ingreso y tasa_impositiva son los parámetros de la función, mientras que 50000 y 0.20, y 75000 y 0.25 son los argumentos en las diferentes llamadas a la función."
   ]
  },
  {
   "cell_type": "markdown",
   "id": "2a711388-3edb-48c4-b832-736df2ab7725",
   "metadata": {
    "id": "2a711388-3edb-48c4-b832-736df2ab7725"
   },
   "source": [
    "#### 2.1.2 Valores de Retorno (return)"
   ]
  },
  {
   "attachments": {},
   "cell_type": "markdown",
   "id": "2e4e8a8f-d2f5-4da2-9d11-9575a9d53edf",
   "metadata": {},
   "source": [
    "Además de realizar acciones (como imprimir en pantalla), las funciones a menudo necesitan devolver un resultado. Utilizamos la palabra clave return para especificar el valor que la función debe devolver. Una vez que se ejecuta una sentencia return, la función termina."
   ]
  },
  {
   "cell_type": "code",
   "execution_count": null,
   "id": "53fff9c6-688d-41b5-95a1-bf71533ff1bd",
   "metadata": {
    "colab": {
     "base_uri": "https://localhost:8080/"
    },
    "id": "53fff9c6-688d-41b5-95a1-bf71533ff1bd",
    "outputId": "b4cabc0d-12f0-4958-bb2e-5137f240ecba"
   },
   "outputs": [
    {
     "name": "stdout",
     "output_type": "stream",
     "text": [
      "2900\n"
     ]
    }
   ],
   "source": [
    "def calcular_pib(consumo, inversion, gasto_publico, exportaciones, importaciones):\n",
    "    \"\"\"  \"\"\"\n",
    "    pib = consumo + inversion + gasto_publico + exportaciones - importaciones\n",
    "    return pib\n",
    "\n",
    "\n",
    "pib_año_2023 = calcular_pib(1500, 500, 700, 600, 400)\n",
    "print(pib_año_2023)"
   ]
  },
  {
   "attachments": {},
   "cell_type": "markdown",
   "id": "964c43cf-1a43-4f57-9a71-334c74285e40",
   "metadata": {},
   "source": [
    "La función calcular_pib toma varios argumentos y devuelve el valor calculado del PIB. Este valor puede luego ser utilizado en otras partes de nuestro programa. "
   ]
  },
  {
   "cell_type": "markdown",
   "id": "d54cabab-f898-4fd5-aae6-45e6aaaa6e31",
   "metadata": {
    "id": "d54cabab-f898-4fd5-aae6-45e6aaaa6e31"
   },
   "source": [
    "### 2.2 Sentencias Condicionales (if, elif, else)"
   ]
  },
  {
   "attachments": {},
   "cell_type": "markdown",
   "id": "576053ad-cd34-42b9-981c-73df1bbfaf9d",
   "metadata": {},
   "source": [
    "Las sentencias condicionales nos permiten ejecutar diferentes bloques de código dependiendo de si una o más condiciones son verdaderas o falsas. Python utiliza las palabras clave “if”, “elif” (abreviatura de \"else if\"), y “else” para definir estas condiciones. Estas expresiones a menudo involucran operadores de comparación como los vistos en el apartado “1.2.4 Operadores de comparación” (== igual a, != no igual a, < menor que, > mayor que, <= menor o igual que, >= mayor o igual que),\n",
    "\n",
    "Una forma de interpretar en español estas condiciones es: \n",
    "- if: si sucede esta condición  \n",
    "- elif: si sucede esta otra condición\n",
    "- else: cualquier condición diferente de las condiciones anteriores\n",
    "\n",
    "Al igual que las funciones, las sentencias condicionales hacen uso de la indentación para especificar las secciones de código que forman parte de la sentencia condicional, la estructura de una sentencia condicional sigue la forma del siguiente ejemplo, donde pregunta si 5 es igual a 5, como esto es verdadero (True), entonces python ejecuta el bloque de código identado."
   ]
  },
  {
   "cell_type": "code",
   "execution_count": null,
   "id": "4881a4a9-2aab-4dc6-8bb0-ffde847eae37",
   "metadata": {
    "colab": {
     "base_uri": "https://localhost:8080/"
    },
    "id": "4881a4a9-2aab-4dc6-8bb0-ffde847eae37",
    "outputId": "0d5795e9-22b3-44bf-f684-294ceb79b00f"
   },
   "outputs": [
    {
     "name": "stdout",
     "output_type": "stream",
     "text": [
      "Evaluación de la condición: True\n"
     ]
    }
   ],
   "source": [
    "if (5 == 5):\n",
    "    print(\"Evaluación de la condición:\", 5 == 5)"
   ]
  },
  {
   "attachments": {},
   "cell_type": "markdown",
   "id": "a1f7f964-33da-4be4-b4d1-53c83737f985",
   "metadata": {},
   "source": [
    "Si la sentencia condicional es falsa (False), python no ingresa al bloque de código identado, el siguiente ejemplo muestra el comportamiento cuando la sentencia condicional es falsa (False) y se cumple la condición “else”."
   ]
  },
  {
   "cell_type": "code",
   "execution_count": null,
   "id": "8a6c7654-4ca2-4691-a0d0-f798812727d0",
   "metadata": {
    "colab": {
     "base_uri": "https://localhost:8080/"
    },
    "id": "8a6c7654-4ca2-4691-a0d0-f798812727d0",
    "outputId": "fc2fe4de-e046-4384-aa5a-ec9f7dd0bb82"
   },
   "outputs": [
    {
     "name": "stdout",
     "output_type": "stream",
     "text": [
      "Evaluación de la condición: False\n"
     ]
    }
   ],
   "source": [
    "if 5 == 4:\n",
    "    print(\"Esta línea de código no se ejecuta\")\n",
    "else:\n",
    "    print(\"Evaluación de la condición:\", 5 == 4)"
   ]
  },
  {
   "attachments": {},
   "cell_type": "markdown",
   "id": "a213cfa9-7630-4b80-bc00-6596410a3267",
   "metadata": {},
   "source": [
    "Como la primera condición “if” es falsa (False) Python pregunta por la siguiente condición, en este caso “else”, que como vimos anteriormente podemos interpretarla como “aquello diferente de las otras condiciones”: en este caso sería verdadero (True), ya que verdadero es lo opuesto de falso en la primera condición “if”, con lo cual, se ejecuta el bloque de código identado posterior al “else”.  \n",
    "Resulta importante mencionar que, en el ejemplo anterior, al evaluar la primera condición del “if”, no se utilizaron paréntesis para la evaluación de la condición “if 5 == 4”, a diferencia del ejemplo “if (5 == 5)”. Python permite evaluar condiciones sin el uso de paréntesis, sin embargo, se recomienda utilizar paréntesis al evaluar condiciones, ya que como veremos más adelante, existen evaluaciones más complejas donde el uso de paréntesis resulta necesario para la ejecución correcta del código. \n",
    "Por último, el siguiente ejemplo muestra las tres condiciones “if”, “elif” y “else”, es importante mencionar que después de la condición “if” se pueden agregar cualquier cantidad de condiciones “elif” que se consideren necesarias."
   ]
  },
  {
   "cell_type": "code",
   "execution_count": 2,
   "id": "a67c2910-b3a8-4a58-8f51-e99a51bb1870",
   "metadata": {
    "colab": {
     "base_uri": "https://localhost:8080/"
    },
    "id": "a67c2910-b3a8-4a58-8f51-e99a51bb1870",
    "outputId": "aa51d0d2-03b1-4a5e-cd92-c5766adda93f"
   },
   "outputs": [
    {
     "name": "stdout",
     "output_type": "stream",
     "text": [
      "La variable 15  es mayor o igual a 15 y menor o igual a 20\n"
     ]
    }
   ],
   "source": [
    "x= 15\n",
    "\n",
    "if (x > 20): # se lee como: si la variable “x” es mayor que 20\n",
    "    print(\"La variable\", x, \" es mayor que 20\")\n",
    "elif (x< 15): # se lee como si la variable “x” es menor que 15\n",
    "    print(\"La variable\", x, \" es menor que 15\")\n",
    "else: # se lee como: aquello diferente a las otras condiciones\n",
    "    print(\"La variable\", x, \" es mayor o igual a 15 y menor o igual a 20\")"
   ]
  },
  {
   "cell_type": "markdown",
   "id": "340e7404-7052-49fe-9ccf-8f9710da15de",
   "metadata": {
    "id": "340e7404-7052-49fe-9ccf-8f9710da15de"
   },
   "source": [
    "#### 2.2.1 Operadores lógicos (and, or, not) con sentencias condicionales"
   ]
  },
  {
   "attachments": {},
   "cell_type": "markdown",
   "id": "21c66150-6f3c-4fd0-8a91-34445f0f5c33",
   "metadata": {},
   "source": [
    "Los operadores lógicos permiten combinar o modificar expresiones condicionales para tomar decisiones más complejas. En Python, los operadores lógicos básicos son “and” (y), “or” (o) y “not” (no). \n",
    "- Operador “and” (y lógico): evalúa si todas las condiciones involucradas son verdaderas, devuelve “True” solo si ambos operandos son “True”. Si alguno es falso, el resultado es “False”. Python evalúa de izquierda a derecha y se detiene en el primer “False”.\n",
    "- Operador “or” (o lógico): evalúa si al menos una de las condiciones es verdadera, devuelve “True” si alguno de los operandos es “True”. Solo retorna False si ambos son False. Python se detiene en el primer “True”.\n",
    "- Operador “not” (negación): invierte el valor booleano de una condición, y convierte “True” en “False” y viceversa."
   ]
  },
  {
   "cell_type": "code",
   "execution_count": null,
   "id": "8011e380-5c4e-44e4-97ac-03306a293d01",
   "metadata": {
    "colab": {
     "base_uri": "https://localhost:8080/"
    },
    "id": "8011e380-5c4e-44e4-97ac-03306a293d01",
    "outputId": "e4d16873-fc35-4abd-edb3-afd453b227e3"
   },
   "outputs": [
    {
     "name": "stdout",
     "output_type": "stream",
     "text": [
      "Hay una alta inflación.\n"
     ]
    }
   ],
   "source": [
    "tasa_desempleo = 0.07\n",
    "inflacion = 0.03\n",
    "\n",
    "if (tasa_desempleo > 0.08) and (inflacion > 0.02):\n",
    "    print(\"La economía enfrenta estanflación.\")\n",
    "elif (tasa_desempleo > 0.08):\n",
    "    print(\"Hay un alto nivel de desempleo.\")\n",
    "elif (inflacion > 0.02):      print(\"Hay una alta inflación.\")\n",
    "else:\n",
    "    print(\"La economía parece estable.\")"
   ]
  },
  {
   "attachments": {},
   "cell_type": "markdown",
   "id": "bfc3f600-532d-428d-9dec-9444415d08ac",
   "metadata": {},
   "source": [
    "En el ejemplo anterior, la condición en la sentencia “if” se evalúa primero. Si es verdadera, se ejecuta el bloque de código indentado debajo de ella. Si es falsa, se evalúa la condición en la siguiente sentencia elif, y así sucesivamente. Si ninguna de las condiciones if o elif es verdadera, se ejecuta el bloque de código bajo la sentencia “else” (si está presente). Nótese que las condiciones “elif” y “else” no están identadas, están al mismo nivel que la condición inicial “if”; al igual que en las funciones, es importante mencionar que después de la condición se deben colocar dos puntos “:”, esto indica el final de la condición, las siguientes líneas de código que se ejecutan deben ir indentadas para establecer que ese código pertenece a esa condición. Así mismo, el código no indentado es otra condición o puede ser código que no depende de ninguna de estas condiciones."
   ]
  },
  {
   "cell_type": "markdown",
   "id": "c1b054ce-868c-40a5-a0fa-7436498af3a4",
   "metadata": {
    "id": "c1b054ce-868c-40a5-a0fa-7436498af3a4"
   },
   "source": [
    "#### 2.3 Funciones nativas y funciones en NumPy"
   ]
  },
  {
   "cell_type": "markdown",
   "id": "c833a720-54da-415b-90de-3331eb1f4055",
   "metadata": {},
   "source": [
    "Ahora que conocemos lo que es una función y las sentencian condicionales, podemos hacer uso de estos elementos y aplicarlos al análisis estadístico descriptivo. Como parte final de este capítulo, mostraremos la forma de programar funciones para el cálculo de la media, sumatorias y la mediana, así como las herramientas que Python ofrece para estos cálculos, desde funciones nativas como “sum()”, “len()”, “min()”, “max()”, etc.., hasta librerías especializadas como NumPy con operaciones vectorizadas.: exploraremos ambos enfoques, pero antes mostraremos algunas funciones nativas básicas de Python: \n",
    "\n",
    "- sum(): Suma los elementos de un iterable.\n",
    "- len(): Cuenta elementos en un iterable.\n",
    "- min() / max(): Encuentra el valor mínimo/máximo.\n",
    "- round(): Redondea a un número de decimales.\n",
    "- sorted(): Ordena un iterable.\n"
   ]
  },
  {
   "cell_type": "code",
   "execution_count": null,
   "id": "d43670e1-45a7-43e2-88e7-52d3d59202f1",
   "metadata": {
    "colab": {
     "base_uri": "https://localhost:8080/"
    },
    "id": "d43670e1-45a7-43e2-88e7-52d3d59202f1",
    "outputId": "956f0daa-b956-40ea-efc5-326d1491f5b7"
   },
   "outputs": [
    {
     "name": "stdout",
     "output_type": "stream",
     "text": [
      "Total: $15500\n",
      "Promedio: $5166.67\n",
      "Venta máxima: $6000\n",
      "Venta mínima: $4500\n",
      "Ventas ordenadas: [4500, 5000, 6000]\n"
     ]
    }
   ],
   "source": [
    "ventas = [5000, 6000, 4500]  # Datos originales de ventas\n",
    "\n",
    "# Cálculos estadísticos (incluyendo sorted)\n",
    "total = sum(ventas)\n",
    "promedio = round(total / len(ventas), 2)\n",
    "max_venta = max(ventas)\n",
    "min_venta = min(ventas)\n",
    "ventas_ordenadas = sorted(ventas)  # Nueva lista ordenada de menor a mayor\n",
    "\n",
    "# Resultados\n",
    "print(f\"Total: ${total}\")\n",
    "print(f\"Promedio: ${promedio}\")\n",
    "print(f\"Venta máxima: ${max_venta}\")\n",
    "print(f\"Venta mínima: ${min_venta}\")\n",
    "print(f\"Ventas ordenadas: {ventas_ordenadas}\")"
   ]
  },
  {
   "cell_type": "markdown",
   "id": "209cc7c1-ea5b-4e37-bf8b-affa22a4cd4e",
   "metadata": {
    "id": "209cc7c1-ea5b-4e37-bf8b-affa22a4cd4e"
   },
   "source": [
    "##### Caluclar suma\n",
    "\n",
    "Tres formas diferentes de calcular la suma de elementos, mostrando las diferencias entre métodos nativos de Python y operaciones vectorizadas de NumPy."
   ]
  },
  {
   "cell_type": "code",
   "execution_count": null,
   "id": "39feba9e-c3b1-4ad5-89a5-15ab7dc67625",
   "metadata": {
    "colab": {
     "base_uri": "https://localhost:8080/"
    },
    "id": "39feba9e-c3b1-4ad5-89a5-15ab7dc67625",
    "outputId": "7e5379fc-f20e-4431-c955-38333039494c"
   },
   "outputs": [
    {
     "name": "stdout",
     "output_type": "stream",
     "text": [
      "Función suma Pyhton: 21.8\n",
      "Función suma numpy: 21.8\n",
      "Función suma manual: 21.8\n"
     ]
    }
   ],
   "source": [
    "import numpy as np\n",
    "\n",
    "ingresos = [2.5, 3.0, 4.5, 1.8, 2.2, 3.8, 4.0] # lista de python\n",
    "ingresos_np = np.array(ingresos) # array NumPy\n",
    "\n",
    "def suma(x):\n",
    "    \"\"\"Calcula la suma usando producto punto con vector de unos.\"\"\"\n",
    "    unos = np.ones(len(x))  # Vector de unos del mismo tamaño\n",
    "    return np.dot(x, unos) # función producto punto\n",
    "\n",
    "\n",
    "print(\"Función suma Pyhton:\", sum(ingresos))\n",
    "print(\"Función suma numpy:\", np.sum(ingresos_np))\n",
    "print(\"Función suma manual:\", suma(ingresos_np))"
   ]
  },
  {
   "attachments": {},
   "cell_type": "markdown",
   "id": "295ef3d0-e85d-40a8-a2d6-db9d6470c39b",
   "metadata": {},
   "source": [
    "El código presentado calcula la suma de una lista de ingresos utilizando tres métodos diferentes: la función nativa sum() de Python, la función np.sum() de NumPy y una implementación manual basada en el producto punto (suma()). El propósito es ilustrar las diferencias en términos de eficiencia, legibilidad y aplicabilidad, especialmente en el contexto del análisis económico con Python.\n",
    "\n",
    "- La función nativa sum() de Python opera sobre una lista de Python (en este caso, ingresos). Es simple y adecuada para conjuntos de datos pequeños, pero su rendimiento disminuye significativamente con grandes volúmenes de datos debido a la falta de optimización para cálculos numéricos.\n",
    "- np.sum() de NumPy está diseñada para cálculos numéricos eficientes. Esta función es mucho más rápida que sum() en datasets grandes, gracias a su implementación y optimizaciones para operaciones vectorizadas.\n",
    "- Una implementación manual (suma()) que usa producto punto con un vector de unos, la cual, aunque ilustra el fundamento algebraico (equivalente a sumar elementos), es innecesariamente compleja y menos eficiente en la práctica, ya que no aprovecha las optimizaciones de NumPy\n",
    "\n",
    "Si bien todos los métodos devuelven el mismo resultado (21.8), la elección depende del contexto: simplicidad, eficiencia o claridad conceptual, en este caso estaremos utilizando las funciones de NumPy por su eficiencia y aplicabilidad a datos económicos. \n",
    "\n",
    "En el siguiente ejemplo calcularemos la media aritmética y mostraremos que podemos llamar a funciones dentro de otras funciones, utilizando la funcion “suma()” que definimos de forma “manual”."
   ]
  },
  {
   "cell_type": "markdown",
   "id": "4f1e808e-5df5-4fac-bc1b-5b42c57762b9",
   "metadata": {
    "id": "4f1e808e-5df5-4fac-bc1b-5b42c57762b9"
   },
   "source": [
    "##### __Calcular la media__"
   ]
  },
  {
   "cell_type": "code",
   "execution_count": null,
   "id": "736ef5fb-fa89-423c-b5b1-0a119a31e9db",
   "metadata": {
    "colab": {
     "base_uri": "https://localhost:8080/"
    },
    "id": "736ef5fb-fa89-423c-b5b1-0a119a31e9db",
    "outputId": "bc473d52-6390-4332-b34b-92ce3c225ca9"
   },
   "outputs": [
    {
     "name": "stdout",
     "output_type": "stream",
     "text": [
      "Media manual:\n",
      "3.1142857142857143\n",
      "Media numpy:\n",
      "3.1142857142857143\n"
     ]
    }
   ],
   "source": [
    "import numpy as np\n",
    "\n",
    "ingresos = [2.5, 3.0, 4.5, 1.8, 2.2, 3.8, 4.0]\n",
    "ingresos_np = np.array(ingresos)\n",
    "\n",
    "def media(datos):\n",
    "    \"\"\"Calcula la media aritmética.\"\"\"\n",
    "    return suma(datos) / len(datos)\n",
    "\n",
    "\n",
    "media_manual = media(ingresos)\n",
    "media_np = np.mean(ingresos_np)\n",
    "print(\"Media manual:\", media_manual, \"Media numpy:\", media_np, sep=\"\\n\")"
   ]
  },
  {
   "cell_type": "markdown",
   "id": "HgxgvTXfrLGN",
   "metadata": {
    "id": "HgxgvTXfrLGN"
   },
   "source": [
    "##### __Calcular la mediana__"
   ]
  },
  {
   "cell_type": "code",
   "execution_count": null,
   "id": "026d1169-a34f-4ffb-9391-695674bb8df1",
   "metadata": {
    "colab": {
     "base_uri": "https://localhost:8080/"
    },
    "id": "026d1169-a34f-4ffb-9391-695674bb8df1",
    "outputId": "cad5cfa9-63e7-4290-f2a8-347b720bde5f"
   },
   "outputs": [
    {
     "name": "stdout",
     "output_type": "stream",
     "text": [
      "3.1142857142857143\n",
      "3.1142857142857143\n"
     ]
    }
   ],
   "source": [
    "import numpy as np\n",
    "\n",
    "\n",
    "def mediana(datos):\n",
    "    \"\"\"Calcula la mediana (valor central) sin usar np.median.\"\"\"\n",
    "    datos_ordenados = sorted(datos)\n",
    "    n = len(datos_ordenados)\n",
    "    mitad = n // 2\n",
    "    if n % 2 == 1:\n",
    "        return datos_ordenados[mitad]\n",
    "    else:\n",
    "        return (datos_ordenados[mitad - 1] + datos_ordenados[mitad]) / 2\n",
    "\n",
    "\n",
    "media_manual = media(ingresos)\n",
    "media_np = np.mean(ingresos_np)\n",
    "\n",
    "print(media_manual)\n",
    "print(media_np)"
   ]
  },
  {
   "attachments": {},
   "cell_type": "markdown",
   "id": "46849ac5-9161-475e-b4ed-cc4dc83d840f",
   "metadata": {
    "id": "a638f66a-d651-4d81-ac6d-0f6540805f7b"
   },
   "source": [
    "La razón de elegir la sumatoria, media y mediana en esta seccion, es para afianzar los conocimientos hasta ahora definidos en capitulos anteriores, así como mostrar las funciones de python para estos cálculos (nativas y de NumPy), mostrando las diferencias y los casos de uso de cada uno de estos elementos, en los siguientes capítulos mostraremos a manera de ejemplo la forma de programar otros métodos de análisis estadístico descriptivo, así como operaciones más complejas en el ámbito de la economía."
   ]
  }
 ],
 "metadata": {
  "colab": {
   "provenance": []
  },
  "kernelspec": {
   "display_name": "Python [conda env:base] *",
   "language": "python",
   "name": "conda-base-py"
  },
  "language_info": {
   "codemirror_mode": {
    "name": "ipython",
    "version": 3
   },
   "file_extension": ".py",
   "mimetype": "text/x-python",
   "name": "python",
   "nbconvert_exporter": "python",
   "pygments_lexer": "ipython3",
   "version": "3.12.2"
  }
 },
 "nbformat": 4,
 "nbformat_minor": 5
}
