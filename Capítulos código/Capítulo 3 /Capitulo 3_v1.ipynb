{
 "cells": [
  {
   "cell_type": "markdown",
   "id": "b0f41242-b07b-41c2-a499-9dda47bcdaa0",
   "metadata": {
    "id": "b0f41242-b07b-41c2-a499-9dda47bcdaa0"
   },
   "source": [
    "# Capitulo 3. Bucles"
   ]
  },
  {
   "attachments": {},
   "cell_type": "markdown",
   "id": "cf4eefca-87e5-4655-be1c-21797db40e71",
   "metadata": {
    "jupyter": {
     "source_hidden": true
    }
   },
   "source": [
    "Los bucles son una herramienta esencial en programación que permite ejecutar un bloque de código repetidamente. Por ejemplo, si tenemos una lista de Python con 5 elementos “lista = [1, 2, 3, 4, 5]\", los bucles nos permiten iterar, es decir, recorrer o repetir un proceso sobre cada elemento de la lista. En este ejemplo de la “lista”, un bucle recorrería cada número de la lista y ejecutaríamos alguna acción sobre cada elemento, por ejemplo, imprimirlo. Python ofrece dos tipos principales de bucles, el bucle “for” y “while”: \n",
    "- En un bucle “for”, iterar implica procesar cada elemento de una secuencia, como recorrer una lista de números para imprimir cada uno.\n",
    "- En un bucle while, iterar implica repetir el código hasta que la condición deje de ser verdadera."
   ]
  },
  {
   "cell_type": "markdown",
   "id": "573cfc92-1a58-4b80-b79c-47b22abdc50a",
   "metadata": {
    "id": "573cfc92-1a58-4b80-b79c-47b22abdc50a"
   },
   "source": [
    "#### 3.1 Bucles for: Iteración sobre Secuencias\n",
    "\n",
    "El bucle for en Python es una forma concisa de iterar sobre los elementos de una secuencia. La sintaxis básica es la palabra clave `for` seguida de una variable (nosotros asignamos el nombre que queramos a esa variable), la palabra clave `in` y por último el objeto sobre el cual queremos que itere, en el siguiente ejemplo usamos una lista.  "
   ]
  },
  {
   "cell_type": "code",
   "execution_count": 1,
   "id": "7a5eb81a-989e-406c-9bfa-1ca643c972db",
   "metadata": {},
   "outputs": [
    {
     "name": "stdout",
     "output_type": "stream",
     "text": [
      "1\n",
      "2\n",
      "3\n",
      "4\n",
      "5\n"
     ]
    }
   ],
   "source": [
    "lista = [1,2,3,4,5]\n",
    "for numero in lista: \n",
    "    print (numero) # Código a jectuar para cada elemento"
   ]
  },
  {
   "attachments": {},
   "cell_type": "markdown",
   "id": "5d44f624-5e4e-4d88-a12f-b85fbe6b8928",
   "metadata": {},
   "source": [
    "Figura XXX. Bucle “for” en el intérprete de Python\n",
    "El bucle for recorrerá cada elemento dentro de la secuencia especificada y ejecutará el bloque de código indentado para cada uno de estos elementos. En el caso de las listas, el bucle “for” asigna cada elemento de la lista a la variable de iteración (“numero” en el ejemplo mostrado anteriormente). \n",
    "\n",
    "Cuando se usa un bucle “for” para iterar una lista, a veces necesitamos saber no solo el valor de cada elemento, sino también su posición (o índice) en la lista, la función “enumerate()” en Python, ayuda a obtener ambos al mismo tiempo: el índice (un número que indica la posición) y el valor del elemento."
   ]
  },
  {
   "cell_type": "code",
   "execution_count": 2,
   "id": "d33d5461-0b47-4cba-80fb-da6013fd5017",
   "metadata": {
    "colab": {
     "base_uri": "https://localhost:8080/"
    },
    "id": "d33d5461-0b47-4cba-80fb-da6013fd5017",
    "outputId": "3088af99-0c18-47dc-9b76-0cb2746470df",
    "scrolled": true
   },
   "outputs": [
    {
     "name": "stdout",
     "output_type": "stream",
     "text": [
      "Índice: 0, Producto: Cobre\n",
      "Índice: 1, Producto: Petróleo\n",
      "Índice: 2, Producto: Maíz\n"
     ]
    }
   ],
   "source": [
    "productos = [\"Cobre\", \"Petróleo\", \"Maíz\"]\n",
    "\n",
    "for indice, producto in enumerate(productos):\n",
    "    print(f\"Índice: {indice}, Producto: {producto}\")"
   ]
  },
  {
   "cell_type": "markdown",
   "id": "05adf1e8-9966-4d26-ac6e-c846ab5749f3",
   "metadata": {
    "id": "05adf1e8-9966-4d26-ac6e-c846ab5749f3"
   },
   "source": [
    "#### 3.1.1 La Función range()"
   ]
  },
  {
   "attachments": {},
   "cell_type": "markdown",
   "id": "7511b1f6-eb6e-4b41-bbf4-5f27f82f8298",
   "metadata": {},
   "source": [
    "A menudo, es necesario iterar un cierto número de veces. La función incorporada range() es muy útil para generar una secuencia de números. Puede utilizarse de tres formas:\n",
    "- range(fin): Genera una secuencia de números desde 0 hasta fin - 1.\n",
    "- range(inicio, fin): Genera una secuencia de números desde inicio hasta fin - 1.\n",
    "- range(inicio, fin, paso): Genera una secuencia de números desde inicio hasta fin - 1, con un incremento de paso."
   ]
  },
  {
   "cell_type": "code",
   "execution_count": null,
   "id": "78f241ca-acdc-4a08-8d50-ac3176d634c6",
   "metadata": {
    "colab": {
     "base_uri": "https://localhost:8080/"
    },
    "id": "78f241ca-acdc-4a08-8d50-ac3176d634c6",
    "outputId": "8f8c4362-bc8d-410b-e778-ce5fc10557e1"
   },
   "outputs": [
    {
     "name": "stdout",
     "output_type": "stream",
     "text": [
      "0\n",
      "1\n",
      "2\n",
      "3\n",
      "4\n"
     ]
    }
   ],
   "source": [
    "# Iterar 5 veces (de 0 a 4)\n",
    "for i in range(5):\n",
    "   print(i)"
   ]
  },
  {
   "cell_type": "code",
   "execution_count": null,
   "id": "f3104b0d-ca2d-4f08-80ce-a354c60eb8e6",
   "metadata": {
    "colab": {
     "base_uri": "https://localhost:8080/"
    },
    "id": "f3104b0d-ca2d-4f08-80ce-a354c60eb8e6",
    "outputId": "191e0c57-4fc5-4d22-9d5f-f5b7a9b34df4"
   },
   "outputs": [
    {
     "name": "stdout",
     "output_type": "stream",
     "text": [
      "El valor actual es: 2\n",
      "El valor actual es: 3\n",
      "El valor actual es: 4\n",
      "El valor actual es: 5\n"
     ]
    }
   ],
   "source": [
    "# Iterar de 2 a 5 (2, 3, 4,5)\n",
    "for j in range(2, 6):\n",
    "    print(\"El valor actual es:\", j)"
   ]
  },
  {
   "cell_type": "code",
   "execution_count": null,
   "id": "d417d897-1441-4d20-9b22-6e54492190e2",
   "metadata": {
    "colab": {
     "base_uri": "https://localhost:8080/"
    },
    "id": "d417d897-1441-4d20-9b22-6e54492190e2",
    "outputId": "6b2ce66f-c02c-4a91-9f07-4f7abfa75c3f"
   },
   "outputs": [
    {
     "name": "stdout",
     "output_type": "stream",
     "text": [
      "Número par: 0\n",
      "Número par: 2\n",
      "Número par: 4\n",
      "Número par: 6\n",
      "Número par: 8\n",
      "Número par: 10\n"
     ]
    }
   ],
   "source": [
    "# Iterar de 0 a 10 con un paso de 2 (0, 2, 4, 6, 8)\n",
    "for k in range(0, 11, 2):\n",
    "    print(\"Número par:\", k)"
   ]
  },
  {
   "attachments": {},
   "cell_type": "markdown",
   "id": "66c36044-46bf-4fed-ae75-f14db3334572",
   "metadata": {},
   "source": [
    "La función range() es comúnmente utilizada en bucles for para controlar el número de iteraciones. "
   ]
  },
  {
   "cell_type": "markdown",
   "id": "41bf59f9-a643-4ab4-bb1c-9b328fcd93b8",
   "metadata": {
    "id": "41bf59f9-a643-4ab4-bb1c-9b328fcd93b8"
   },
   "source": [
    "#### 3.1.2 Bucles Anidados\n",
    "\n",
    "Es posible colocar un bucle dentro de otro bucle, lo que se conoce como bucles anidados. Esto puede ser útil para iterar sobre estructuras de datos multidimensionales, como listas de listas (que pueden representar matrices)."
   ]
  },
  {
   "cell_type": "code",
   "execution_count": null,
   "id": "c0773dc4-a19a-4c49-92fd-0c81d359db86",
   "metadata": {
    "colab": {
     "base_uri": "https://localhost:8080/"
    },
    "id": "c0773dc4-a19a-4c49-92fd-0c81d359db86",
    "outputId": "3ff187cc-f470-4e7a-f4ed-737d6bf296cc"
   },
   "outputs": [
    {
     "name": "stdout",
     "output_type": "stream",
     "text": [
      "Fila: [10, 12, 11]\n",
      "Precio: 10\n",
      "Precio: 12\n",
      "Precio: 11\n",
      "Fila: [15, 16, 14]\n",
      "Precio: 15\n",
      "Precio: 16\n",
      "Precio: 14\n",
      "Fila: [13, 14, 15]\n",
      "Precio: 13\n",
      "Precio: 14\n",
      "Precio: 15\n"
     ]
    }
   ],
   "source": [
    "matriz_precios = [[10, 12, 11], [15, 16, 14], [13, 14, 15]]\n",
    "\n",
    "for fila in matriz_precios:\n",
    "    print(\"Fila:\", fila)\n",
    "    for precio in fila:\n",
    "        print(\"Precio:\", precio)"
   ]
  },
  {
   "cell_type": "markdown",
   "id": "c0916534-21fe-4842-b8ee-bfd7a5496830",
   "metadata": {},
   "source": [
    "En este ejemplo, el bucle exterior itera sobre cada fila de la matriz_precios, y el bucle interior itera sobre cada precio dentro de la fila actual. Los bucles anidados pueden ser útiles para realizar operaciones en cada elemento de una matriz o para generar combinaciones. "
   ]
  },
  {
   "cell_type": "markdown",
   "id": "9ebfd385-875b-4c5b-8d53-b9d5e39e34a8",
   "metadata": {
    "id": "9ebfd385-875b-4c5b-8d53-b9d5e39e34a8"
   },
   "source": [
    "#### 3.2 Bucles while: Iteración Condicional\n",
    "\n",
    "El bucle while ejecuta un bloque de código mientras una condición especificada sea verdadera. La sintaxis básica es: \n",
    "\n",
    "`while condicion:` Es el código a ejecutar mientras esa condición sea verdadera"
   ]
  },
  {
   "cell_type": "markdown",
   "id": "3808e1f3-8c85-4c8a-8989-fa397e404d97",
   "metadata": {},
   "source": [
    "Es crucial asegurarse de que la condición eventualmente se vuelva falsa dentro del bucle para evitar un bucle infinito, donde el código se ejecuta indefinidamente."
   ]
  },
  {
   "cell_type": "code",
   "execution_count": null,
   "id": "501f2961-3228-482d-9efc-82fe3a3461c6",
   "metadata": {
    "colab": {
     "base_uri": "https://localhost:8080/"
    },
    "id": "501f2961-3228-482d-9efc-82fe3a3461c6",
    "outputId": "b3e34c46-6dbc-470c-9dd6-b10d164facb7"
   },
   "outputs": [
    {
     "name": "stdout",
     "output_type": "stream",
     "text": [
      "El contador es: 0\n",
      "El contador es: 1\n",
      "El contador es: 2\n",
      "El contador es: 3\n",
      "El contador es: 4\n"
     ]
    }
   ],
   "source": [
    "contador = 0\n",
    "\n",
    "while contador < 5:\n",
    "    print(\"El contador es:\", contador)\n",
    "    contador += 1 # Incrementamos el contador en cada iteración"
   ]
  },
  {
   "cell_type": "markdown",
   "id": "a0e73748-0a8f-4490-932d-e9acce46441d",
   "metadata": {},
   "source": [
    "En este ejemplo, el bucle “while” se ejecutará mientras la variable “contador” sea menor que 5. En cada iteración, se imprime el valor del contador y luego se incrementa usando la expresión “+=”. Eventualmente, la condición (contador < 5) se vuelve falsa y el bucle termina. La expresión “+=” puede parecer confusa, pero en realidad lo que estamos haciendo es sumar el valor “1” a la variable contador (contador = contador + 1), en Python utilizamos una expresión más concisa (+=) para representar esta operación."
   ]
  },
  {
   "cell_type": "markdown",
   "id": "c49e92db-e18c-4b07-8817-840942051f10",
   "metadata": {
    "id": "c49e92db-e18c-4b07-8817-840942051f10"
   },
   "source": [
    "#### 3.2.1 Condiciones de Terminación\n",
    "\n",
    "Definir correctamente la condición de terminación es fundamental para evitar bucles infinitos en los bucles `while`. La condición debe basarse en una o más variables que se modifican dentro del bucle de tal manera que eventualmente la condición se evalúe como falsa."
   ]
  },
  {
   "cell_type": "code",
   "execution_count": null,
   "id": "a96525bd-6208-4d96-b91d-8f8ddf4a02d4",
   "metadata": {
    "colab": {
     "base_uri": "https://localhost:8080/"
    },
    "id": "a96525bd-6208-4d96-b91d-8f8ddf4a02d4",
    "outputId": "44a09bc2-9ded-4152-a6fe-bbf2a740b952"
   },
   "outputs": [
    {
     "name": "stdout",
     "output_type": "stream",
     "text": [
      "PIB en el año 2023 : 1010.0\n",
      "Tasa de crecimiento: 0.01\n",
      "PIB en el año 2024 : 1025.1499999999999\n",
      "Tasa de crecimiento: 0.015\n",
      "PIB en el año 2025 : 1045.6529999999998\n",
      "Tasa de crecimiento: 0.02\n",
      "PIB en el año 2026 : 1071.7943249999996\n",
      "Tasa de crecimiento: 0.025\n",
      "PIB en el año 2027 : 1103.9481547499997\n",
      "Tasa de crecimiento: 0.030000000000000002\n",
      "PIB en el año 2028 : 1142.5863401662496\n",
      "Tasa de crecimiento: 0.035\n",
      "PIB en el año 2029 : 1188.2897937728997\n",
      "Tasa de crecimiento: 0.04\n"
     ]
    }
   ],
   "source": [
    "tasa_crecimiento = 0.01\n",
    "año = 2023\n",
    "pib = 1000\n",
    "\n",
    "while (tasa_crecimiento < 0.05 and año < 2030):\n",
    "    pib *= (1 + tasa_crecimiento)\n",
    "    print(\"PIB en el año\", año, \":\", pib)\n",
    "    print(\"Tasa de crecimiento:\", tasa_crecimiento)\n",
    "    tasa_crecimiento += 0.005 # Simulación de un aumento gradual en la tasa\n",
    "    año += 1"
   ]
  },
  {
   "attachments": {},
   "cell_type": "markdown",
   "id": "4cbfa29a-06f0-4f98-b20a-bad03a01b174",
   "metadata": {},
   "source": [
    "En esta simulación simplificada, el bucle while continúa mientras la tasa de crecimiento sea menor que 0.05 y el año sea anterior a 2030. En cada iteración, se actualiza el PIB, se imprime la información y se modifican tanto la tasa de crecimiento como el año, lo que eventualmente llevará a que una o ambas condiciones sean falsas y el bucle termine. "
   ]
  },
  {
   "cell_type": "markdown",
   "id": "c69622d2-887a-4da9-83ef-1c2565f95e8b",
   "metadata": {
    "id": "c69622d2-887a-4da9-83ef-1c2565f95e8b"
   },
   "source": [
    "#### 3.3 List Comprehensions"
   ]
  },
  {
   "attachments": {},
   "cell_type": "markdown",
   "id": "3c7df930-e0f9-4f63-9648-90f0698c3ef8",
   "metadata": {},
   "source": [
    "Las “list comprehensions” son una característica poderosa y concisa de Python que permite iterar en objetos como (listas, rangos, diccionarios, etc.) de forma más compacta que usando bucles tradicionales. Con una sola línea de código, es posible generar una nueva lista aplicando una operación o condición a cada elemento de un iterable. \n",
    "Son ideales para simplificar el código y hacerlo más legible, especialmente cuando se requiere transformar o filtrar datos.\n",
    "\n",
    "La sitaxis básica es: \"[expresión for elemento in iterable]\"."
   ]
  },
  {
   "cell_type": "code",
   "execution_count": null,
   "id": "ddf6381e-5aba-46ec-823e-29d410c503bd",
   "metadata": {
    "colab": {
     "base_uri": "https://localhost:8080/"
    },
    "id": "ddf6381e-5aba-46ec-823e-29d410c503bd",
    "outputId": "f044ae1c-2526-4491-9e68-2e225b86c62d"
   },
   "outputs": [
    {
     "name": "stdout",
     "output_type": "stream",
     "text": [
      "[2.5, 5.0, 7.5, 10.0, 12.5]\n",
      "[np.float64(2.5), np.float64(5.0), np.float64(7.5), np.float64(10.0), np.float64(12.5)]\n"
     ]
    }
   ],
   "source": [
    "import numpy as np\n",
    "\n",
    "lista= [1, 2, 3, 4, 5]\n",
    "array_np = np.array(lista)\n",
    "nueva_lista = [x * 2.5 for x in lista]\n",
    "nuevo_array_np = [x * 2.5 for x in array_np]\n",
    "\n",
    "print(nueva_lista, nuevo_array_np, sep=\"\\n\")"
   ]
  },
  {
   "attachments": {},
   "cell_type": "markdown",
   "id": "ab781fcd-f85f-41fe-8e76-b9c9f4a3d470",
   "metadata": {
    "id": "ab781fcd-f85f-41fe-8e76-b9c9f4a3d470"
   },
   "source": [
    "También podemos colocar condiciones `if`,  `else` en las `list comprehensions`, en el siguiente ejemplo, la parte `if` condición es opcional y se utiliza para filtrar los elementos del iterable"
   ]
  },
  {
   "cell_type": "code",
   "execution_count": null,
   "id": "ce43a253-96da-45ff-af3f-2e1a3f2c4d0b",
   "metadata": {
    "colab": {
     "base_uri": "https://localhost:8080/"
    },
    "id": "ce43a253-96da-45ff-af3f-2e1a3f2c4d0b",
    "outputId": "6fad2691-6369-4fac-96a8-2f5a2564e167"
   },
   "outputs": [
    {
     "name": "stdout",
     "output_type": "stream",
     "text": [
      "[4, 5]\n"
     ]
    }
   ],
   "source": [
    "lista= [x for x in range(6) if x > 3]\n",
    "\n",
    "print(lista)"
   ]
  },
  {
   "cell_type": "markdown",
   "id": "dc04d103-b86b-4f84-bc0f-1a7b1cf1ea3e",
   "metadata": {
    "id": "dc04d103-b86b-4f84-bc0f-1a7b1cf1ea3e"
   },
   "source": [
    "#### 3.4 Ejemplos de simulación iterativa  "
   ]
  },
  {
   "cell_type": "markdown",
   "id": "14cc05e2-f654-43ba-af27-774b9e9e9201",
   "metadata": {},
   "source": [
    "Los bucles “for” y “while” son muy útiles para realizar simulaciones iterativas en economía, donde un proceso se repite hasta que se alcanza un cierto equilibrio o se cumple una condición. A continuación, presentamos un ejemplo de Montecarlo."
   ]
  },
  {
   "cell_type": "code",
   "execution_count": null,
   "id": "a340519a-b625-4621-b8c4-7de173363dd2",
   "metadata": {
    "colab": {
     "base_uri": "https://localhost:8080/"
    },
    "id": "a340519a-b625-4621-b8c4-7de173363dd2",
    "outputId": "419c72d9-1479-4a24-9fe1-780da6d826a1"
   },
   "outputs": [
    {
     "name": "stdout",
     "output_type": "stream",
     "text": [
      "Probabilidad estimada de 'Cara': 50.20% (Teórica: 50%)\n",
      "0.502\n"
     ]
    }
   ],
   "source": [
    "import numpy as np\n",
    "\n",
    "\n",
    "# Parámetros\n",
    "num_lanzamientos = 10_000 # Número de lanzamientos (simulaciones)\n",
    "resultados = np.random.choice([\"Cara\", \"Cruz\"], size=num_lanzamientos)\n",
    "\n",
    "# Probabilidad estimada de \"Cara\"\n",
    "prob_cara = np.sum(resultados == \"Cara\") / num_lanzamientos\n",
    "\n",
    "\n",
    "print(f\"Probabilidad estimada de 'Cara': {prob_cara * 100:.2f}% (Teórica: 50%)\")\n",
    "\n",
    "# Convergencia de la probabilidad\n",
    "frecuencia_acumulada = [np.sum(resultados[:n] == \"Cara\") / n for n in range(1, num_lanzamientos + 1)]\n",
    "\n",
    "print(frecuencia_acumulada[-1])"
   ]
  },
  {
   "cell_type": "markdown",
   "id": "1a545f00-29fd-468a-b946-ff883ab96826",
   "metadata": {
    "id": "c7aacfdc-b533-493b-b002-633dceb9110b"
   },
   "source": [
    "En el siguiente ejemplo, mostraremos como simular cuántos lanzamientos se necesitan para obtener **3 caras seguidas**, utilzamos un bucle for para iterar sobre un numero “n” de simulaciones, el guion bajo “_” lo utilizamos como variable de descarte (es una convención en Python para indicar que la variable del bucle no se usa dentro del bloque de código.), pero si ejecutamos las iteraciones. Posteriormente usamos el bucle “while” para iterar hasta que “caras_seguidas” es igual a tres.  "
   ]
  },
  {
   "cell_type": "code",
   "execution_count": null,
   "id": "03441ab0-20f2-40ec-b9a3-27f98a97c519",
   "metadata": {
    "colab": {
     "base_uri": "https://localhost:8080/"
    },
    "id": "03441ab0-20f2-40ec-b9a3-27f98a97c519",
    "outputId": "224bf58f-33c5-4d3d-c79c-cc626e83c0d3"
   },
   "outputs": [
    {
     "name": "stdout",
     "output_type": "stream",
     "text": [
      "[11, 8, 6, 5, 18]\n"
     ]
    }
   ],
   "source": [
    "import numpy as np\n",
    "\n",
    "num_simulaciones = 1000\n",
    "resultados = []\n",
    "\n",
    "\n",
    "for _ in range(num_simulaciones):\n",
    "    lanzamientos = 0\n",
    "    caras_seguidas = 0\n",
    "\n",
    "    while caras_seguidas < 3:\n",
    "        lanzamientos += 1\n",
    "        moneda = np.random.choice(['Cara', 'Cruz'])\n",
    "        if moneda == 'Cara':\n",
    "            caras_seguidas += 1\n",
    "        else:\n",
    "            caras_seguidas = 0\n",
    "\n",
    "    resultados.append(lanzamientos)\n",
    "\n",
    "print(resultados[:5])"
   ]
  },
  {
   "cell_type": "code",
   "execution_count": null,
   "id": "65aff8f6-7b8b-479c-adf2-ee3f0190ed5a",
   "metadata": {
    "id": "65aff8f6-7b8b-479c-adf2-ee3f0190ed5a"
   },
   "outputs": [],
   "source": []
  }
 ],
 "metadata": {
  "colab": {
   "provenance": []
  },
  "kernelspec": {
   "display_name": "Python [conda env:base] *",
   "language": "python",
   "name": "conda-base-py"
  },
  "language_info": {
   "codemirror_mode": {
    "name": "ipython",
    "version": 3
   },
   "file_extension": ".py",
   "mimetype": "text/x-python",
   "name": "python",
   "nbconvert_exporter": "python",
   "pygments_lexer": "ipython3",
   "version": "3.12.2"
  }
 },
 "nbformat": 4,
 "nbformat_minor": 5
}
